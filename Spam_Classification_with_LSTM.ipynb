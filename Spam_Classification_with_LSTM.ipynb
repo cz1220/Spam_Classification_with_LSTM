{
 "cells": [
  {
   "cell_type": "markdown",
   "metadata": {
    "id": "yBnmbg-jdztQ"
   },
   "source": [
    "# Spam classification with LSTM\n"
   ]
  },
  {
   "cell_type": "markdown",
   "metadata": {
    "id": "TKJv-b6RewJn"
   },
   "source": [
    "# Data Loading\n"
   ]
  },
  {
   "cell_type": "code",
   "execution_count": 1,
   "metadata": {
    "colab": {
     "base_uri": "https://localhost:8080/"
    },
    "id": "QoiahW1_fZ6p",
    "outputId": "317149fd-7442-4cc7-d953-502fc806e4d4"
   },
   "outputs": [
    {
     "name": "stdout",
     "output_type": "stream",
     "text": [
      "--2022-02-21 06:17:53--  https://docs.google.com/uc?export=download&id=1OVRo37agn02mc6yp5p6-wtJ8Hyb-YMXR\n",
      "Resolving docs.google.com (docs.google.com)... 74.125.195.100, 74.125.195.102, 74.125.195.138, ...\n",
      "Connecting to docs.google.com (docs.google.com)|74.125.195.100|:443... connected.\n",
      "HTTP request sent, awaiting response... 303 See Other\n",
      "Location: https://doc-14-04-docs.googleusercontent.com/docs/securesc/ha0ro937gcuc7l7deffksulhg5h7mbp1/adso7bps9f863rbb3bsth190vfi044p5/1645424250000/08752484438609855375/*/1OVRo37agn02mc6yp5p6-wtJ8Hyb-YMXR?e=download [following]\n",
      "Warning: wildcards not supported in HTTP.\n",
      "--2022-02-21 06:17:53--  https://doc-14-04-docs.googleusercontent.com/docs/securesc/ha0ro937gcuc7l7deffksulhg5h7mbp1/adso7bps9f863rbb3bsth190vfi044p5/1645424250000/08752484438609855375/*/1OVRo37agn02mc6yp5p6-wtJ8Hyb-YMXR?e=download\n",
      "Resolving doc-14-04-docs.googleusercontent.com (doc-14-04-docs.googleusercontent.com)... 74.125.195.132, 2607:f8b0:400e:c09::84\n",
      "Connecting to doc-14-04-docs.googleusercontent.com (doc-14-04-docs.googleusercontent.com)|74.125.195.132|:443... connected.\n",
      "HTTP request sent, awaiting response... 200 OK\n",
      "Length: 503663 (492K) [text/csv]\n",
      "Saving to: ‘spam.csv’\n",
      "\n",
      "spam.csv            100%[===================>] 491.86K  --.-KB/s    in 0.005s  \n",
      "\n",
      "2022-02-21 06:17:53 (106 MB/s) - ‘spam.csv’ saved [503663/503663]\n",
      "\n"
     ]
    }
   ],
   "source": [
    "!wget 'https://docs.google.com/uc?export=download&id=1OVRo37agn02mc6yp5p6-wtJ8Hyb-YMXR' -O spam.csv"
   ]
  },
  {
   "cell_type": "code",
   "execution_count": 2,
   "metadata": {
    "colab": {
     "base_uri": "https://localhost:8080/",
     "height": 204
    },
    "id": "I52OxyBgfi_j",
    "outputId": "19222c05-c2d0-4c33-d410-66f4c2f0290a"
   },
   "outputs": [
    {
     "data": {
      "text/html": [
       "\n",
       "  <div id=\"df-b97a008e-c12a-4bcd-aa58-0c9ec2f58791\">\n",
       "    <div class=\"colab-df-container\">\n",
       "      <div>\n",
       "<style scoped>\n",
       "    .dataframe tbody tr th:only-of-type {\n",
       "        vertical-align: middle;\n",
       "    }\n",
       "\n",
       "    .dataframe tbody tr th {\n",
       "        vertical-align: top;\n",
       "    }\n",
       "\n",
       "    .dataframe thead th {\n",
       "        text-align: right;\n",
       "    }\n",
       "</style>\n",
       "<table border=\"1\" class=\"dataframe\">\n",
       "  <thead>\n",
       "    <tr style=\"text-align: right;\">\n",
       "      <th></th>\n",
       "      <th>v1</th>\n",
       "      <th>v2</th>\n",
       "    </tr>\n",
       "  </thead>\n",
       "  <tbody>\n",
       "    <tr>\n",
       "      <th>0</th>\n",
       "      <td>0</td>\n",
       "      <td>Go until jurong point, crazy.. Available only ...</td>\n",
       "    </tr>\n",
       "    <tr>\n",
       "      <th>1</th>\n",
       "      <td>0</td>\n",
       "      <td>Ok lar... Joking wif u oni...</td>\n",
       "    </tr>\n",
       "    <tr>\n",
       "      <th>2</th>\n",
       "      <td>1</td>\n",
       "      <td>Free entry in 2 a wkly comp to win FA Cup fina...</td>\n",
       "    </tr>\n",
       "    <tr>\n",
       "      <th>3</th>\n",
       "      <td>0</td>\n",
       "      <td>U dun say so early hor... U c already then say...</td>\n",
       "    </tr>\n",
       "    <tr>\n",
       "      <th>4</th>\n",
       "      <td>0</td>\n",
       "      <td>Nah I don't think he goes to usf, he lives aro...</td>\n",
       "    </tr>\n",
       "  </tbody>\n",
       "</table>\n",
       "</div>\n",
       "      <button class=\"colab-df-convert\" onclick=\"convertToInteractive('df-b97a008e-c12a-4bcd-aa58-0c9ec2f58791')\"\n",
       "              title=\"Convert this dataframe to an interactive table.\"\n",
       "              style=\"display:none;\">\n",
       "        \n",
       "  <svg xmlns=\"http://www.w3.org/2000/svg\" height=\"24px\"viewBox=\"0 0 24 24\"\n",
       "       width=\"24px\">\n",
       "    <path d=\"M0 0h24v24H0V0z\" fill=\"none\"/>\n",
       "    <path d=\"M18.56 5.44l.94 2.06.94-2.06 2.06-.94-2.06-.94-.94-2.06-.94 2.06-2.06.94zm-11 1L8.5 8.5l.94-2.06 2.06-.94-2.06-.94L8.5 2.5l-.94 2.06-2.06.94zm10 10l.94 2.06.94-2.06 2.06-.94-2.06-.94-.94-2.06-.94 2.06-2.06.94z\"/><path d=\"M17.41 7.96l-1.37-1.37c-.4-.4-.92-.59-1.43-.59-.52 0-1.04.2-1.43.59L10.3 9.45l-7.72 7.72c-.78.78-.78 2.05 0 2.83L4 21.41c.39.39.9.59 1.41.59.51 0 1.02-.2 1.41-.59l7.78-7.78 2.81-2.81c.8-.78.8-2.07 0-2.86zM5.41 20L4 18.59l7.72-7.72 1.47 1.35L5.41 20z\"/>\n",
       "  </svg>\n",
       "      </button>\n",
       "      \n",
       "  <style>\n",
       "    .colab-df-container {\n",
       "      display:flex;\n",
       "      flex-wrap:wrap;\n",
       "      gap: 12px;\n",
       "    }\n",
       "\n",
       "    .colab-df-convert {\n",
       "      background-color: #E8F0FE;\n",
       "      border: none;\n",
       "      border-radius: 50%;\n",
       "      cursor: pointer;\n",
       "      display: none;\n",
       "      fill: #1967D2;\n",
       "      height: 32px;\n",
       "      padding: 0 0 0 0;\n",
       "      width: 32px;\n",
       "    }\n",
       "\n",
       "    .colab-df-convert:hover {\n",
       "      background-color: #E2EBFA;\n",
       "      box-shadow: 0px 1px 2px rgba(60, 64, 67, 0.3), 0px 1px 3px 1px rgba(60, 64, 67, 0.15);\n",
       "      fill: #174EA6;\n",
       "    }\n",
       "\n",
       "    [theme=dark] .colab-df-convert {\n",
       "      background-color: #3B4455;\n",
       "      fill: #D2E3FC;\n",
       "    }\n",
       "\n",
       "    [theme=dark] .colab-df-convert:hover {\n",
       "      background-color: #434B5C;\n",
       "      box-shadow: 0px 1px 3px 1px rgba(0, 0, 0, 0.15);\n",
       "      filter: drop-shadow(0px 1px 2px rgba(0, 0, 0, 0.3));\n",
       "      fill: #FFFFFF;\n",
       "    }\n",
       "  </style>\n",
       "\n",
       "      <script>\n",
       "        const buttonEl =\n",
       "          document.querySelector('#df-b97a008e-c12a-4bcd-aa58-0c9ec2f58791 button.colab-df-convert');\n",
       "        buttonEl.style.display =\n",
       "          google.colab.kernel.accessAllowed ? 'block' : 'none';\n",
       "\n",
       "        async function convertToInteractive(key) {\n",
       "          const element = document.querySelector('#df-b97a008e-c12a-4bcd-aa58-0c9ec2f58791');\n",
       "          const dataTable =\n",
       "            await google.colab.kernel.invokeFunction('convertToInteractive',\n",
       "                                                     [key], {});\n",
       "          if (!dataTable) return;\n",
       "\n",
       "          const docLinkHtml = 'Like what you see? Visit the ' +\n",
       "            '<a target=\"_blank\" href=https://colab.research.google.com/notebooks/data_table.ipynb>data table notebook</a>'\n",
       "            + ' to learn more about interactive tables.';\n",
       "          element.innerHTML = '';\n",
       "          dataTable['output_type'] = 'display_data';\n",
       "          await google.colab.output.renderOutput(dataTable, element);\n",
       "          const docLink = document.createElement('div');\n",
       "          docLink.innerHTML = docLinkHtml;\n",
       "          element.appendChild(docLink);\n",
       "        }\n",
       "      </script>\n",
       "    </div>\n",
       "  </div>\n",
       "  "
      ],
      "text/plain": [
       "   v1                                                 v2\n",
       "0   0  Go until jurong point, crazy.. Available only ...\n",
       "1   0                      Ok lar... Joking wif u oni...\n",
       "2   1  Free entry in 2 a wkly comp to win FA Cup fina...\n",
       "3   0  U dun say so early hor... U c already then say...\n",
       "4   0  Nah I don't think he goes to usf, he lives aro..."
      ]
     },
     "execution_count": 2,
     "metadata": {},
     "output_type": "execute_result"
    }
   ],
   "source": [
    "import pandas as pd\n",
    "import numpy as np\n",
    "\n",
    "df = pd.read_csv(\"spam.csv\", usecols=[\"v1\", \"v2\"], encoding='latin-1')\n",
    "# 1 - spam, 0 - ham\n",
    "df.v1 = (df.v1 == \"spam\").astype(\"int\")\n",
    "df.head()"
   ]
  },
  {
   "cell_type": "markdown",
   "metadata": {
    "id": "pCihb3oogn27"
   },
   "source": [
    "We will split the data into train, val, and test sets.  \n",
    "`train_texts`, `val_texts`, and `test_texts` should contain a list of text examples in the dataset.\n"
   ]
  },
  {
   "cell_type": "code",
   "execution_count": 3,
   "metadata": {
    "colab": {
     "base_uri": "https://localhost:8080/"
    },
    "id": "0H78E3FLgEA2",
    "outputId": "c5a8a821-58c2-4dac-ac4b-508969225699"
   },
   "outputs": [
    {
     "name": "stdout",
     "output_type": "stream",
     "text": [
      "Size of initial data: 5572\n",
      "Train size: 3902\n",
      "Val size: 835\n",
      "Test size: 835\n",
      "\n"
     ]
    }
   ],
   "source": [
    "# 0.15 for val, 0.15 for test, 0.7 for train\n",
    "val_size = int(df.shape[0] * 0.15)\n",
    "test_size = int(df.shape[0] * 0.15)\n",
    "\n",
    "# Shuffle the data\n",
    "df = df.sample(frac=1)\n",
    "# Split df to test/val/train\n",
    "test_df = df[:test_size]\n",
    "val_df = df[test_size:test_size+val_size]\n",
    "train_df = df[test_size+val_size:]\n",
    "\n",
    "\n",
    "train_texts, train_labels = list(train_df.v2), list(train_df.v1)\n",
    "val_texts, val_labels     = list(val_df.v2), list(val_df.v1)\n",
    "test_texts, test_labels   = list(test_df.v2), list(test_df.v1)\n",
    "\n",
    "\n",
    "# Check that idces do not overlap\n",
    "assert set(train_df.index).intersection(set(val_df.index)) == set({})\n",
    "assert set(test_df.index).intersection(set(train_df.index)) == set({})\n",
    "assert set(val_df.index).intersection(set(test_df.index)) == set({})\n",
    "# Check that all idces are present\n",
    "assert df.shape[0] == len(train_labels) + len(val_labels) + len(test_labels)\n",
    "\n",
    "# Sizes\n",
    "print(\n",
    "    f\"Size of initial data: {df.shape[0]}\\n\"\n",
    "    f\"Train size: {len(train_labels)}\\n\"\n",
    "    f\"Val size: {len(val_labels)}\\n\"\n",
    "    f\"Test size: {len(test_labels)}\\n\"\n",
    ")"
   ]
  },
  {
   "cell_type": "code",
   "execution_count": 4,
   "metadata": {
    "colab": {
     "base_uri": "https://localhost:8080/"
    },
    "id": "FX8D130ngVxu",
    "outputId": "0e98b305-3c1d-4cdd-e401-d703d06a33da"
   },
   "outputs": [
    {
     "data": {
      "text/plain": [
       "['18 days to Euro2004 kickoff! U will be kept informed of all the latest news and results daily. Unsubscribe send GET EURO STOP to 83222.',\n",
       " 'great princess! I love giving and receiving oral. Doggy style is my fave position. How about you? I enjoy making love  &lt;#&gt;  times per night :)',\n",
       " 'A Boy loved a gal. He propsd bt she didnt mind. He gv lv lttrs, Bt her frnds threw thm. Again d boy decided 2 aproach d gal , dt time a truck was speeding towards d gal. Wn it was about 2 hit d girl,d boy ran like hell n saved her. She asked \\'hw cn u run so fast?\\' D boy replied \\\\Boost is d secret of my energy\\\\\" n instantly d girl shouted \\\\\"our energy\\\\\" n Thy lived happily 2gthr drinking boost evrydy Moral of d story:- I hv free msgs:D;): gud ni8\"',\n",
       " \"Very strange.  and  are watching the 2nd one now but i'm in bed. Sweet dreams, miss u \",\n",
       " 'Love you aathi..love u lot..',\n",
       " \"So how's the weather over there?\",\n",
       " 'Yup... How Ì_ noe leh...',\n",
       " 'Will Ì_ b going to esplanade fr home?',\n",
       " '8007 FREE for 1st week! No1 Nokia tone 4 ur mob every week just txt NOKIA to 8007 Get txting and tell ur mates www.getzed.co.uk POBox 36504 W4 5WQ norm 150p/tone 16+',\n",
       " 'Staff of placement training in Amrita college.']"
      ]
     },
     "execution_count": 4,
     "metadata": {},
     "output_type": "execute_result"
    }
   ],
   "source": [
    "train_texts[:10]  # Just checking the examples in train_text"
   ]
  },
  {
   "cell_type": "markdown",
   "metadata": {
    "id": "4Sm_iuR_hJp2"
   },
   "source": [
    "# Download and Load GloVe Embeddings\n",
    "We will use GloVe embedding parameters to initialize our layer of word representations / embedding layer.\n",
    "Let's download and load glove.\n",
    "\n",
    "\n",
    "\n"
   ]
  },
  {
   "cell_type": "code",
   "execution_count": 5,
   "metadata": {
    "colab": {
     "base_uri": "https://localhost:8080/"
    },
    "id": "HRCcCtcSjEPR",
    "outputId": "ceecf692-beaa-428f-e2d1-c9bc5c20a16c"
   },
   "outputs": [
    {
     "name": "stdout",
     "output_type": "stream",
     "text": [
      "--2022-02-21 06:17:53--  https://docs.google.com/uc?id=1KMJTagaVD9hFHXFTPtNk0u2JjvNlyCAu\n",
      "Resolving docs.google.com (docs.google.com)... 74.125.142.139, 74.125.142.113, 74.125.142.101, ...\n",
      "Connecting to docs.google.com (docs.google.com)|74.125.142.139|:443... connected.\n",
      "HTTP request sent, awaiting response... 303 See Other\n",
      "Location: https://doc-0k-0g-docs.googleusercontent.com/docs/securesc/ha0ro937gcuc7l7deffksulhg5h7mbp1/vit05eulfbb1s30k9erj69spb4rkvp12/1645424250000/14514704803973256873/*/1KMJTagaVD9hFHXFTPtNk0u2JjvNlyCAu [following]\n",
      "Warning: wildcards not supported in HTTP.\n",
      "--2022-02-21 06:17:58--  https://doc-0k-0g-docs.googleusercontent.com/docs/securesc/ha0ro937gcuc7l7deffksulhg5h7mbp1/vit05eulfbb1s30k9erj69spb4rkvp12/1645424250000/14514704803973256873/*/1KMJTagaVD9hFHXFTPtNk0u2JjvNlyCAu\n",
      "Resolving doc-0k-0g-docs.googleusercontent.com (doc-0k-0g-docs.googleusercontent.com)... 74.125.195.132, 2607:f8b0:400e:c09::84\n",
      "Connecting to doc-0k-0g-docs.googleusercontent.com (doc-0k-0g-docs.googleusercontent.com)|74.125.195.132|:443... connected.\n",
      "HTTP request sent, awaiting response... 200 OK\n",
      "Length: 52428800 (50M) [audio/audible]\n",
      "Saving to: ‘glove_split.aa’\n",
      "\n",
      "glove_split.aa      100%[===================>]  50.00M   208MB/s    in 0.2s    \n",
      "\n",
      "2022-02-21 06:17:58 (208 MB/s) - ‘glove_split.aa’ saved [52428800/52428800]\n",
      "\n",
      "--2022-02-21 06:17:58--  https://docs.google.com/uc?id=1LF2yD2jToXriyD-lsYA5hj03f7J3ZKaY\n",
      "Resolving docs.google.com (docs.google.com)... 74.125.142.138, 74.125.142.113, 74.125.142.101, ...\n",
      "Connecting to docs.google.com (docs.google.com)|74.125.142.138|:443... connected.\n",
      "HTTP request sent, awaiting response... 303 See Other\n",
      "Location: https://doc-08-0g-docs.googleusercontent.com/docs/securesc/ha0ro937gcuc7l7deffksulhg5h7mbp1/d03cj2lvu53lsigq85gappddncuuphll/1645424250000/14514704803973256873/*/1LF2yD2jToXriyD-lsYA5hj03f7J3ZKaY [following]\n",
      "Warning: wildcards not supported in HTTP.\n",
      "--2022-02-21 06:17:59--  https://doc-08-0g-docs.googleusercontent.com/docs/securesc/ha0ro937gcuc7l7deffksulhg5h7mbp1/d03cj2lvu53lsigq85gappddncuuphll/1645424250000/14514704803973256873/*/1LF2yD2jToXriyD-lsYA5hj03f7J3ZKaY\n",
      "Resolving doc-08-0g-docs.googleusercontent.com (doc-08-0g-docs.googleusercontent.com)... 74.125.195.132, 2607:f8b0:400e:c09::84\n",
      "Connecting to doc-08-0g-docs.googleusercontent.com (doc-08-0g-docs.googleusercontent.com)|74.125.195.132|:443... connected.\n",
      "HTTP request sent, awaiting response... 200 OK\n",
      "Length: 52428800 (50M) [application/octet-stream]\n",
      "Saving to: ‘glove_split.ab’\n",
      "\n",
      "glove_split.ab      100%[===================>]  50.00M   225MB/s    in 0.2s    \n",
      "\n",
      "2022-02-21 06:17:59 (225 MB/s) - ‘glove_split.ab’ saved [52428800/52428800]\n",
      "\n",
      "--2022-02-21 06:17:59--  https://docs.google.com/uc?id=1N1xnxkRyM5Gar7sv4d41alyTL92Iip3f\n",
      "Resolving docs.google.com (docs.google.com)... 74.125.142.101, 74.125.142.138, 74.125.142.100, ...\n",
      "Connecting to docs.google.com (docs.google.com)|74.125.142.101|:443... connected.\n",
      "HTTP request sent, awaiting response... 303 See Other\n",
      "Location: https://doc-04-0g-docs.googleusercontent.com/docs/securesc/ha0ro937gcuc7l7deffksulhg5h7mbp1/nqdcmont6nvarmgrq8tvph544goda0u0/1645424250000/14514704803973256873/*/1N1xnxkRyM5Gar7sv4d41alyTL92Iip3f [following]\n",
      "Warning: wildcards not supported in HTTP.\n",
      "--2022-02-21 06:18:01--  https://doc-04-0g-docs.googleusercontent.com/docs/securesc/ha0ro937gcuc7l7deffksulhg5h7mbp1/nqdcmont6nvarmgrq8tvph544goda0u0/1645424250000/14514704803973256873/*/1N1xnxkRyM5Gar7sv4d41alyTL92Iip3f\n",
      "Resolving doc-04-0g-docs.googleusercontent.com (doc-04-0g-docs.googleusercontent.com)... 74.125.195.132, 2607:f8b0:400e:c09::84\n",
      "Connecting to doc-04-0g-docs.googleusercontent.com (doc-04-0g-docs.googleusercontent.com)|74.125.195.132|:443... connected.\n",
      "HTTP request sent, awaiting response... 200 OK\n",
      "Length: 24629432 (23M) [application/octet-stream]\n",
      "Saving to: ‘glove_split.ac’\n",
      "\n",
      "glove_split.ac      100%[===================>]  23.49M  84.3MB/s    in 0.3s    \n",
      "\n",
      "2022-02-21 06:18:01 (84.3 MB/s) - ‘glove_split.ac’ saved [24629432/24629432]\n",
      "\n"
     ]
    }
   ],
   "source": [
    "#@title Download GloVe word embeddings\n",
    "\n",
    "# === Download GloVe word embeddings\n",
    "# !wget http://nlp.stanford.edu/data/glove.6B.zip\n",
    "\n",
    "# === Unzip word embeddings and use only the top 50000 word embeddings for speed\n",
    "# !unzip glove.6B.zip\n",
    "# !head -n 50000 glove.6B.300d.txt > glove.6B.300d__50k.txt\n",
    "\n",
    "# === Download Preprocessed version\n",
    "!wget https://docs.google.com/uc?id=1KMJTagaVD9hFHXFTPtNk0u2JjvNlyCAu -O glove_split.aa\n",
    "!wget https://docs.google.com/uc?id=1LF2yD2jToXriyD-lsYA5hj03f7J3ZKaY -O glove_split.ab\n",
    "!wget https://docs.google.com/uc?id=1N1xnxkRyM5Gar7sv4d41alyTL92Iip3f -O glove_split.ac\n",
    "!cat glove_split.?? > 'glove.6B.300d__50k.txt'"
   ]
  },
  {
   "cell_type": "code",
   "execution_count": 6,
   "metadata": {
    "colab": {
     "base_uri": "https://localhost:8080/"
    },
    "id": "B5pO1Unc-AHz",
    "outputId": "c18d2007-a052-4f78-96cf-a6179326805a"
   },
   "outputs": [
    {
     "name": "stdout",
     "output_type": "stream",
     "text": [
      "--2022-02-21 06:18:02--  https://campuspro-uploads.s3.us-west-2.amazonaws.com/f14e42f6-0f57-4d3c-bf3c-6eb8982c822b/1447cf92-9ef5-4097-939d-f69337174ded/glove.6B.300d__50k.txt.zip\n",
      "Resolving campuspro-uploads.s3.us-west-2.amazonaws.com (campuspro-uploads.s3.us-west-2.amazonaws.com)... 52.92.162.82\n",
      "Connecting to campuspro-uploads.s3.us-west-2.amazonaws.com (campuspro-uploads.s3.us-west-2.amazonaws.com)|52.92.162.82|:443... connected.\n",
      "HTTP request sent, awaiting response... 200 OK\n",
      "Length: 49335722 (47M) [application/zip]\n",
      "Saving to: ‘glove.6B.300d__50k.txt.zip’\n",
      "\n",
      "glove.6B.300d__50k. 100%[===================>]  47.05M  19.3MB/s    in 2.4s    \n",
      "\n",
      "2022-02-21 06:18:05 (19.3 MB/s) - ‘glove.6B.300d__50k.txt.zip’ saved [49335722/49335722]\n",
      "\n",
      "Archive:  glove.6B.300d__50k.txt.zip\n",
      "replace glove.6B.300d__50k.txt? [y]es, [n]o, [A]ll, [N]one, [r]ename: n\n",
      "  inflating: __MACOSX/._glove.6B.300d__50k.txt  \n"
     ]
    }
   ],
   "source": [
    "!wget https://campuspro-uploads.s3.us-west-2.amazonaws.com/f14e42f6-0f57-4d3c-bf3c-6eb8982c822b/1447cf92-9ef5-4097-939d-f69337174ded/glove.6B.300d__50k.txt.zip\n",
    "!unzip glove.6B.300d__50k.txt.zip"
   ]
  },
  {
   "cell_type": "markdown",
   "metadata": {
    "id": "4AfN4rYTOmCD"
   },
   "source": [
    "## Load GloVe Embeddings"
   ]
  },
  {
   "cell_type": "code",
   "execution_count": 7,
   "metadata": {
    "colab": {
     "base_uri": "https://localhost:8080/"
    },
    "id": "TSF0C4jHjnSz",
    "outputId": "c717dcc2-be0c-469d-deb9-d25cd64084de"
   },
   "outputs": [
    {
     "name": "stdout",
     "output_type": "stream",
     "text": [
      "300\n"
     ]
    }
   ],
   "source": [
    "def load_glove(glove_path, embedding_dim):\n",
    "    with open(glove_path) as f:\n",
    "        token_ls = [PAD_TOKEN, UNK_TOKEN]\n",
    "        embedding_ls = [np.zeros(embedding_dim), np.random.rand(embedding_dim)]\n",
    "        for line in f:\n",
    "            token, raw_embedding = line.split(maxsplit=1)\n",
    "            token_ls.append(token)\n",
    "            embedding = np.array([float(x) for x in raw_embedding.split()])\n",
    "            embedding_ls.append(embedding)\n",
    "        embeddings = np.array(embedding_ls)\n",
    "        print(embedding_ls[-1].size)\n",
    "    return token_ls, embeddings\n",
    "\n",
    "PAD_TOKEN = '<PAD>'\n",
    "UNK_TOKEN = '<UNK>'\n",
    "EMBEDDING_DIM=300 # dimension of Glove embeddings\n",
    "glove_path = \"glove.6B.300d__50k.txt\"\n",
    "vocab, embeddings = load_glove(glove_path, EMBEDDING_DIM)"
   ]
  },
  {
   "cell_type": "markdown",
   "metadata": {
    "id": "e_VZkGbgO4yA"
   },
   "source": [
    "## Import packages"
   ]
  },
  {
   "cell_type": "code",
   "execution_count": 8,
   "metadata": {
    "colab": {
     "base_uri": "https://localhost:8080/"
    },
    "id": "FpbnKsQeptXw",
    "outputId": "21ab0b86-065a-41b5-bbe4-aaf4b9dee9cc"
   },
   "outputs": [
    {
     "name": "stdout",
     "output_type": "stream",
     "text": [
      "Collecting sacremoses\n",
      "  Downloading sacremoses-0.0.47-py2.py3-none-any.whl (895 kB)\n",
      "\u001b[?25l\r",
      "\u001b[K     |▍                               | 10 kB 31.5 MB/s eta 0:00:01\r",
      "\u001b[K     |▊                               | 20 kB 20.5 MB/s eta 0:00:01\r",
      "\u001b[K     |█                               | 30 kB 16.7 MB/s eta 0:00:01\r",
      "\u001b[K     |█▌                              | 40 kB 15.2 MB/s eta 0:00:01\r",
      "\u001b[K     |█▉                              | 51 kB 8.2 MB/s eta 0:00:01\r",
      "\u001b[K     |██▏                             | 61 kB 9.6 MB/s eta 0:00:01\r",
      "\u001b[K     |██▋                             | 71 kB 9.3 MB/s eta 0:00:01\r",
      "\u001b[K     |███                             | 81 kB 9.5 MB/s eta 0:00:01\r",
      "\u001b[K     |███▎                            | 92 kB 10.5 MB/s eta 0:00:01\r",
      "\u001b[K     |███▋                            | 102 kB 8.9 MB/s eta 0:00:01\r",
      "\u001b[K     |████                            | 112 kB 8.9 MB/s eta 0:00:01\r",
      "\u001b[K     |████▍                           | 122 kB 8.9 MB/s eta 0:00:01\r",
      "\u001b[K     |████▊                           | 133 kB 8.9 MB/s eta 0:00:01\r",
      "\u001b[K     |█████▏                          | 143 kB 8.9 MB/s eta 0:00:01\r",
      "\u001b[K     |█████▌                          | 153 kB 8.9 MB/s eta 0:00:01\r",
      "\u001b[K     |█████▉                          | 163 kB 8.9 MB/s eta 0:00:01\r",
      "\u001b[K     |██████▎                         | 174 kB 8.9 MB/s eta 0:00:01\r",
      "\u001b[K     |██████▋                         | 184 kB 8.9 MB/s eta 0:00:01\r",
      "\u001b[K     |███████                         | 194 kB 8.9 MB/s eta 0:00:01\r",
      "\u001b[K     |███████▎                        | 204 kB 8.9 MB/s eta 0:00:01\r",
      "\u001b[K     |███████▊                        | 215 kB 8.9 MB/s eta 0:00:01\r",
      "\u001b[K     |████████                        | 225 kB 8.9 MB/s eta 0:00:01\r",
      "\u001b[K     |████████▍                       | 235 kB 8.9 MB/s eta 0:00:01\r",
      "\u001b[K     |████████▉                       | 245 kB 8.9 MB/s eta 0:00:01\r",
      "\u001b[K     |█████████▏                      | 256 kB 8.9 MB/s eta 0:00:01\r",
      "\u001b[K     |█████████▌                      | 266 kB 8.9 MB/s eta 0:00:01\r",
      "\u001b[K     |█████████▉                      | 276 kB 8.9 MB/s eta 0:00:01\r",
      "\u001b[K     |██████████▎                     | 286 kB 8.9 MB/s eta 0:00:01\r",
      "\u001b[K     |██████████▋                     | 296 kB 8.9 MB/s eta 0:00:01\r",
      "\u001b[K     |███████████                     | 307 kB 8.9 MB/s eta 0:00:01\r",
      "\u001b[K     |███████████▍                    | 317 kB 8.9 MB/s eta 0:00:01\r",
      "\u001b[K     |███████████▊                    | 327 kB 8.9 MB/s eta 0:00:01\r",
      "\u001b[K     |████████████                    | 337 kB 8.9 MB/s eta 0:00:01\r",
      "\u001b[K     |████████████▌                   | 348 kB 8.9 MB/s eta 0:00:01\r",
      "\u001b[K     |████████████▉                   | 358 kB 8.9 MB/s eta 0:00:01\r",
      "\u001b[K     |█████████████▏                  | 368 kB 8.9 MB/s eta 0:00:01\r",
      "\u001b[K     |█████████████▌                  | 378 kB 8.9 MB/s eta 0:00:01\r",
      "\u001b[K     |██████████████                  | 389 kB 8.9 MB/s eta 0:00:01\r",
      "\u001b[K     |██████████████▎                 | 399 kB 8.9 MB/s eta 0:00:01\r",
      "\u001b[K     |██████████████▋                 | 409 kB 8.9 MB/s eta 0:00:01\r",
      "\u001b[K     |███████████████                 | 419 kB 8.9 MB/s eta 0:00:01\r",
      "\u001b[K     |███████████████▍                | 430 kB 8.9 MB/s eta 0:00:01\r",
      "\u001b[K     |███████████████▊                | 440 kB 8.9 MB/s eta 0:00:01\r",
      "\u001b[K     |████████████████                | 450 kB 8.9 MB/s eta 0:00:01\r",
      "\u001b[K     |████████████████▌               | 460 kB 8.9 MB/s eta 0:00:01\r",
      "\u001b[K     |████████████████▉               | 471 kB 8.9 MB/s eta 0:00:01\r",
      "\u001b[K     |█████████████████▏              | 481 kB 8.9 MB/s eta 0:00:01\r",
      "\u001b[K     |█████████████████▋              | 491 kB 8.9 MB/s eta 0:00:01\r",
      "\u001b[K     |██████████████████              | 501 kB 8.9 MB/s eta 0:00:01\r",
      "\u001b[K     |██████████████████▎             | 512 kB 8.9 MB/s eta 0:00:01\r",
      "\u001b[K     |██████████████████▊             | 522 kB 8.9 MB/s eta 0:00:01\r",
      "\u001b[K     |███████████████████             | 532 kB 8.9 MB/s eta 0:00:01\r",
      "\u001b[K     |███████████████████▍            | 542 kB 8.9 MB/s eta 0:00:01\r",
      "\u001b[K     |███████████████████▊            | 552 kB 8.9 MB/s eta 0:00:01\r",
      "\u001b[K     |████████████████████▏           | 563 kB 8.9 MB/s eta 0:00:01\r",
      "\u001b[K     |████████████████████▌           | 573 kB 8.9 MB/s eta 0:00:01\r",
      "\u001b[K     |████████████████████▉           | 583 kB 8.9 MB/s eta 0:00:01\r",
      "\u001b[K     |█████████████████████▎          | 593 kB 8.9 MB/s eta 0:00:01\r",
      "\u001b[K     |█████████████████████▋          | 604 kB 8.9 MB/s eta 0:00:01\r",
      "\u001b[K     |██████████████████████          | 614 kB 8.9 MB/s eta 0:00:01\r",
      "\u001b[K     |██████████████████████▎         | 624 kB 8.9 MB/s eta 0:00:01\r",
      "\u001b[K     |██████████████████████▊         | 634 kB 8.9 MB/s eta 0:00:01\r",
      "\u001b[K     |███████████████████████         | 645 kB 8.9 MB/s eta 0:00:01\r",
      "\u001b[K     |███████████████████████▍        | 655 kB 8.9 MB/s eta 0:00:01\r",
      "\u001b[K     |███████████████████████▉        | 665 kB 8.9 MB/s eta 0:00:01\r",
      "\u001b[K     |████████████████████████▏       | 675 kB 8.9 MB/s eta 0:00:01\r",
      "\u001b[K     |████████████████████████▌       | 686 kB 8.9 MB/s eta 0:00:01\r",
      "\u001b[K     |█████████████████████████       | 696 kB 8.9 MB/s eta 0:00:01\r",
      "\u001b[K     |█████████████████████████▎      | 706 kB 8.9 MB/s eta 0:00:01\r",
      "\u001b[K     |█████████████████████████▋      | 716 kB 8.9 MB/s eta 0:00:01\r",
      "\u001b[K     |██████████████████████████      | 727 kB 8.9 MB/s eta 0:00:01\r",
      "\u001b[K     |██████████████████████████▍     | 737 kB 8.9 MB/s eta 0:00:01\r",
      "\u001b[K     |██████████████████████████▊     | 747 kB 8.9 MB/s eta 0:00:01\r",
      "\u001b[K     |███████████████████████████     | 757 kB 8.9 MB/s eta 0:00:01\r",
      "\u001b[K     |███████████████████████████▌    | 768 kB 8.9 MB/s eta 0:00:01\r",
      "\u001b[K     |███████████████████████████▉    | 778 kB 8.9 MB/s eta 0:00:01\r",
      "\u001b[K     |████████████████████████████▏   | 788 kB 8.9 MB/s eta 0:00:01\r",
      "\u001b[K     |████████████████████████████▌   | 798 kB 8.9 MB/s eta 0:00:01\r",
      "\u001b[K     |█████████████████████████████   | 808 kB 8.9 MB/s eta 0:00:01\r",
      "\u001b[K     |█████████████████████████████▎  | 819 kB 8.9 MB/s eta 0:00:01\r",
      "\u001b[K     |█████████████████████████████▋  | 829 kB 8.9 MB/s eta 0:00:01\r",
      "\u001b[K     |██████████████████████████████  | 839 kB 8.9 MB/s eta 0:00:01\r",
      "\u001b[K     |██████████████████████████████▍ | 849 kB 8.9 MB/s eta 0:00:01\r",
      "\u001b[K     |██████████████████████████████▊ | 860 kB 8.9 MB/s eta 0:00:01\r",
      "\u001b[K     |███████████████████████████████▏| 870 kB 8.9 MB/s eta 0:00:01\r",
      "\u001b[K     |███████████████████████████████▌| 880 kB 8.9 MB/s eta 0:00:01\r",
      "\u001b[K     |███████████████████████████████▉| 890 kB 8.9 MB/s eta 0:00:01\r",
      "\u001b[K     |████████████████████████████████| 895 kB 8.9 MB/s \n",
      "\u001b[?25hRequirement already satisfied: tqdm in /usr/local/lib/python3.7/dist-packages (from sacremoses) (4.62.3)\n",
      "Requirement already satisfied: regex in /usr/local/lib/python3.7/dist-packages (from sacremoses) (2019.12.20)\n",
      "Requirement already satisfied: click in /usr/local/lib/python3.7/dist-packages (from sacremoses) (7.1.2)\n",
      "Requirement already satisfied: joblib in /usr/local/lib/python3.7/dist-packages (from sacremoses) (1.1.0)\n",
      "Requirement already satisfied: six in /usr/local/lib/python3.7/dist-packages (from sacremoses) (1.15.0)\n",
      "Installing collected packages: sacremoses\n",
      "Successfully installed sacremoses-0.0.47\n"
     ]
    }
   ],
   "source": [
    "!pip install sacremoses\n",
    "\n",
    "import torch\n",
    "import torch.nn as nn\n",
    "import torch.nn.functional as F\n",
    "import torch.optim as optim\n",
    "import numpy as np\n",
    "import os\n",
    "import pandas as pd\n",
    "import sacremoses\n",
    "from torch.utils.data import dataloader, Dataset\n",
    "from tqdm.auto import tqdm"
   ]
  },
  {
   "cell_type": "markdown",
   "metadata": {
    "id": "_Wwy3gSvO87p"
   },
   "source": [
    "# Tokenize text data.\n",
    "We will use the `tokenize` function to convert text data into sequence of indices."
   ]
  },
  {
   "cell_type": "code",
   "execution_count": 9,
   "metadata": {
    "colab": {
     "base_uri": "https://localhost:8080/",
     "height": 113,
     "referenced_widgets": [
      "070cca35f8a0428ca1cb8264c104f595",
      "495a9e8081c04a4689c4734a4327e667",
      "7c2ca65275c7457183b1404ccdfcf59a",
      "3773565a1a4c427cbb654e33f594e2e7",
      "da41f3314fa14218a8c2bdc3f023abdd",
      "92e97177347d4577aa0335c0225c5d4f",
      "d23f22b51b9a459ea4bc0382eb4293ca",
      "bdade669d06e40ebad30dbe172c1224b",
      "1455169843d0487a941269e73aa7b5cd",
      "15167bd41b3d4694b69f4a934635fb7c",
      "021be8b17b564ee9acd98ef4c404b3d5",
      "cc25c7fbf35c401295b81b1e3d9c4c3a",
      "57e01ea5914b4c6f87a57d221b6b522e",
      "c8729fb8364943c6988348acd1f08d67",
      "1a2aa28f4520452eb2cd5753ab3efedb",
      "03cc408933464a9f86d64bdad1fde89e",
      "9944f00cfe7c40afb2e1bd73305ec5e0",
      "18d36b424a7c44d6838f33e2d0a78199",
      "6b52f10ee33e4bc2877f886aaa2bc682",
      "e73a6ec54e704bf4967bbb260dd90662",
      "823467816baa45b39a19709ac38c7658",
      "e9bf5de8b2284d47992d77fe17f2ba51",
      "86b599cdaf0843448e6fa9a48b1f539f",
      "c5f4a70757894f2c85643d9f83526398",
      "05d6df91eb674f6aa645b59402be129d",
      "1b1d8b14277d41dfab47095ee36db34f",
      "a03cbc4a77f74e648d65fcaaab3f7d5e",
      "e20b8ed0e4ec456b8df8755144ca424a",
      "9df6101f59e149c5bc59e128aa05ead3",
      "2b514802e7824415b3fad5888ace3009",
      "8f4f1ca48cba45cca76bc5d41c00d2ab",
      "6137377ded0c4a71a1a8c274c52cd4e0",
      "6b9832158c0c480588d39ced06b784a1"
     ]
    },
    "id": "j1aLbeOBmRyR",
    "outputId": "1e525807-b499-4773-dfc3-971532fca102"
   },
   "outputs": [
    {
     "data": {
      "application/vnd.jupyter.widget-view+json": {
       "model_id": "070cca35f8a0428ca1cb8264c104f595",
       "version_major": 2,
       "version_minor": 0
      },
      "text/plain": [
       "  0%|          | 0/3902 [00:00<?, ?it/s]"
      ]
     },
     "metadata": {},
     "output_type": "display_data"
    },
    {
     "data": {
      "application/vnd.jupyter.widget-view+json": {
       "model_id": "cc25c7fbf35c401295b81b1e3d9c4c3a",
       "version_major": 2,
       "version_minor": 0
      },
      "text/plain": [
       "  0%|          | 0/835 [00:00<?, ?it/s]"
      ]
     },
     "metadata": {},
     "output_type": "display_data"
    },
    {
     "data": {
      "application/vnd.jupyter.widget-view+json": {
       "model_id": "86b599cdaf0843448e6fa9a48b1f539f",
       "version_major": 2,
       "version_minor": 0
      },
      "text/plain": [
       "  0%|          | 0/835 [00:00<?, ?it/s]"
      ]
     },
     "metadata": {},
     "output_type": "display_data"
    }
   ],
   "source": [
    "def tokenize(data, labels, tokenizer, vocab, max_seq_length=128):\n",
    "    vocab_to_idx = {word: i for i, word in enumerate(vocab)}\n",
    "    text_data = []\n",
    "    label_data = []\n",
    "    for ex in tqdm(data):\n",
    "        tokenized = tokenizer.tokenize(ex.lower())\n",
    "        ids = [vocab_to_idx.get(token, 1) for token in tokenized]\n",
    "        text_data.append(ids)\n",
    "    return text_data, labels\n",
    "tokenizer = sacremoses.MosesTokenizer()\n",
    "train_data_indices, train_labels = tokenize(train_texts, train_labels, tokenizer, vocab)\n",
    "val_data_indices, val_labels = tokenize(val_texts, val_labels, tokenizer, vocab)\n",
    "test_data_indices, test_labels = tokenize(test_texts, test_labels, tokenizer, vocab)"
   ]
  },
  {
   "cell_type": "code",
   "execution_count": 10,
   "metadata": {
    "colab": {
     "base_uri": "https://localhost:8080/"
    },
    "id": "OEF48Bddt5kA",
    "outputId": "6fb4a8aa-ee13-4e01-ccea-7eb5bc20bb4f"
   },
   "outputs": [
    {
     "name": "stdout",
     "output_type": "stream",
     "text": [
      "\n",
      "Train text first 5 examples:\n",
      " [[521, 251, 6, 1, 12768, 807, 6481, 45, 32, 1292, 3856, 5, 66, 2, 995, 174, 7, 606, 1, 1, 1547, 171, 1538, 839, 6, 1, 4], [355, 4244, 807, 43, 837, 1229, 7, 2748, 1, 1, 1137, 16, 194, 1, 1, 199, 61, 83, 190, 43, 3712, 435, 837, 725, 18811, 91, 2751, 725, 16537, 91, 248, 534, 366, 47, 26], [9, 1608, 4148, 9, 1, 20, 1, 7671, 69, 1, 1, 20, 1, 49032, 1, 3, 7671, 73, 1, 3287, 1, 380, 1970, 1608, 849, 234, 1, 1970, 21757, 3, 39533, 81, 9, 2577, 17, 11340, 1813, 1970, 1, 1, 22, 17, 61, 234, 418, 1970, 1751, 3, 1970, 1608, 1423, 119, 5615, 3816, 4039, 1, 69, 478, 1, 1, 15766, 6481, 309, 102, 1607, 190, 1, 1970, 1608, 5301, 7959, 1939, 16, 1970, 1781, 5, 194, 636, 7959, 1, 3816, 9681, 1970, 1751, 7423, 7959, 1, 164, 636, 7959, 1, 3816, 25004, 1579, 12443, 1, 4146, 1939, 1, 4013, 5, 1970, 525, 47, 13, 43, 1, 417, 1, 47, 1970, 91, 26, 47, 1, 1, 1], [193, 1, 7, 34, 2643, 2, 2768, 50, 116, 36, 43, 1, 8, 1, 3716, 5561, 3, 2216, 6481], [837, 83, 1, 1, 837, 6481, 532, 1]]\n",
      "\n",
      "Train labels first 5 examples:\n",
      " [1, 0, 0, 0, 0]\n"
     ]
    }
   ],
   "source": [
    "print(\"\\nTrain text first 5 examples:\\n\", train_data_indices[:5])\n",
    "print(\"\\nTrain labels first 5 examples:\\n\", train_labels[:5])"
   ]
  },
  {
   "cell_type": "markdown",
   "metadata": {
    "id": "_dlUYNvgPUXs"
   },
   "source": [
    "# Create DataLoaders \n",
    " Now, let's create pytorch DataLoaders for our train, val, and test data.\n",
    "\n",
    " `SpamDataset` class is based on torch [`Dataset`](https://pytorch.org/docs/1.7.0/data.html?highlight=dataset#torch.utils.data.Dataset). It has an additional parameter called `self.max_sent_length` and a `spam_collate_func`.\n",
    "\n",
    "In order to use batch processing, all the examples need to effectively be the same length. We'll do this by adding padding tokens. `spam_collate_func` is supposed to dynamically pad or trim the sentences in the batch based on `self.max_sent_length` and the length of longest sequence in the batch. \n",
    "- If `self.max_sent_length` is less than the length of longest sequence in the batch, use `self.max_sent_length`. Otherwise, use the length of longest sequence in the batch.\n",
    "- We do this because our input sentences in the batch may be much shorter than `self.max_sent_length`.  \n",
    "\n",
    "Please check the comment block in the code near TODO for more details.\n",
    "\n",
    "\n",
    "Example: \n",
    "\n",
    "* PAD token id = 0\n",
    "* max_sent_length = 5\n",
    "\n",
    "input list of sequences:\n",
    "```\n",
    "inp = [\n",
    "    [1,4,5,3,5,6,7,4,4],\n",
    "    [3,5,3,2],\n",
    "    [2,5,3,5,6,7,4],\n",
    "]\n",
    "```\n",
    "then padded minibatch looks like this:\n",
    "```\n",
    "padded_input = \n",
    "    [[1,4,5,3,5],\n",
    "     [3,5,3,2,0],\n",
    "     [2,5,3,5,6]]\n",
    "```"
   ]
  },
  {
   "cell_type": "code",
   "execution_count": 11,
   "metadata": {
    "id": "-uJDfnVMxBsz"
   },
   "outputs": [],
   "source": [
    "import numpy as np\n",
    "import torch\n",
    "from torch.utils.data import Dataset\n",
    "\n",
    "class SpamDataset(Dataset):\n",
    "    \"\"\"\n",
    "    Class that represents a train/validation/test dataset that's readable for PyTorch\n",
    "    Note that this class inherits torch.utils.data.Dataset\n",
    "    \"\"\"\n",
    "    \n",
    "    def __init__(self, data_list, target_list, max_sent_length=128):\n",
    "        \"\"\"\n",
    "        @param data_list: list of data tokens \n",
    "        @param target_list: list of data targets \n",
    "\n",
    "        \"\"\"\n",
    "        self.data_list = data_list\n",
    "        self.target_list = target_list\n",
    "        self.max_sent_length = max_sent_length\n",
    "        assert (len(self.data_list) == len(self.target_list))\n",
    "\n",
    "    def __len__(self):\n",
    "        return len(self.data_list)\n",
    "        \n",
    "    def __getitem__(self, key, max_sent_length=None):\n",
    "        \"\"\"\n",
    "        Triggered when you call dataset[i]\n",
    "        \"\"\"\n",
    "        if max_sent_length is None:\n",
    "            max_sent_length = self.max_sent_length\n",
    "        token_idx = self.data_list[key][:max_sent_length]\n",
    "        label = self.target_list[key]\n",
    "        return [token_idx, label]\n",
    "\n",
    "    def spam_collate_func(self, batch):\n",
    "        \"\"\"\n",
    "        Customized function for DataLoader that dynamically pads the batch so that all \n",
    "        data have the same length\n",
    "        # What the input `batch`? That's for you to figure out!\n",
    "        # You can read the Dataloader documentation, or you can use print\n",
    "        # function to debug. \n",
    "        \"\"\" \n",
    "        data_list = [] # store padded sequences\n",
    "        label_list = []\n",
    "        max_batch_seq_len = None # the length of longest sequence in batch\n",
    "                                 # if it is less than self.max_sent_length\n",
    "                                 # else max_batch_seq_len = self.max_sent_length\n",
    "\n",
    "        \"\"\"\n",
    "          # Pad the sequences in data \n",
    "          # if their length is less than max_batch_seq_len\n",
    "          # or trim the sequences that are longer than self.max_sent_length\n",
    "          # return padded data_list and label_list\n",
    "          \n",
    "        \"\"\"\n",
    "        for token_idx, label in batch:\n",
    "            # get current length\n",
    "            curr_seq_len = len(token_idx)     \n",
    "            up_token_idx = token_idx + [0] * (self.max_sent_length - curr_seq_len)\n",
    "            data_list.append(up_token_idx)  \n",
    "            label_list.append(label)                                                                                           \n",
    "\n",
    "        data_list = torch.tensor(data_list)\n",
    "        label_list = torch.tensor(label_list)\n",
    "        return [data_list, label_list]\n",
    "\n",
    "BATCH_SIZE = 64\n",
    "max_sent_length=128\n",
    "train_dataset = SpamDataset(train_data_indices, train_labels, max_sent_length)\n",
    "train_loader = torch.utils.data.DataLoader(dataset=train_dataset, \n",
    "                                           batch_size=BATCH_SIZE,\n",
    "                                           collate_fn=train_dataset.spam_collate_func,\n",
    "                                           shuffle=True)\n",
    "\n",
    "val_dataset = SpamDataset(val_data_indices, val_labels, train_dataset.max_sent_length)\n",
    "val_loader = torch.utils.data.DataLoader(dataset=val_dataset, \n",
    "                                           batch_size=BATCH_SIZE,\n",
    "                                           collate_fn=train_dataset.spam_collate_func,\n",
    "                                           shuffle=False)\n",
    "\n",
    "test_dataset = SpamDataset(test_data_indices, test_labels, train_dataset.max_sent_length)\n",
    "test_loader = torch.utils.data.DataLoader(dataset=test_dataset, \n",
    "                                           batch_size=BATCH_SIZE,\n",
    "                                           collate_fn=train_dataset.spam_collate_func,\n",
    "                                           shuffle=False)\n",
    "\n"
   ]
  },
  {
   "cell_type": "markdown",
   "metadata": {
    "id": "XWgRGaCWf4Zz"
   },
   "source": [
    "Let's try to print out an batch from train_loader.\n"
   ]
  },
  {
   "cell_type": "code",
   "execution_count": 12,
   "metadata": {
    "colab": {
     "base_uri": "https://localhost:8080/"
    },
    "id": "5O8R_KhwxULI",
    "outputId": "6b9bbea6-7ec1-4361-c617-1b6cb51bcce1"
   },
   "outputs": [
    {
     "name": "stdout",
     "output_type": "stream",
     "text": [
      "data batch dimension:  torch.Size([64, 128])\n",
      "data_batch:  tensor([[ 7944, 15114,     3,  ...,     0,     0,     0],\n",
      "        [  208, 10373,   170,  ...,     0,     0,     0],\n",
      "        [ 7959, 36104, 15114,  ...,     0,     0,     0],\n",
      "        ...,\n",
      "        [ 3204,     1,    43,  ...,     0,     0,     0],\n",
      "        [   43,  1315,     6,  ...,     0,     0,     0],\n",
      "        [ 7959,  7944, 15114,  ...,     0,     0,     0]])\n",
      "labels:  tensor([0, 0, 0, 0, 0, 0, 0, 0, 0, 0, 0, 0, 0, 0, 0, 0, 0, 0, 0, 1, 0, 0, 1, 0,\n",
      "        0, 0, 0, 0, 1, 0, 0, 0, 0, 0, 0, 0, 0, 0, 0, 0, 0, 0, 0, 0, 0, 0, 0, 0,\n",
      "        1, 0, 0, 0, 0, 0, 0, 0, 0, 0, 0, 1, 1, 0, 0, 0])\n"
     ]
    }
   ],
   "source": [
    "data_batch, labels = next(iter(train_loader))\n",
    "print(\"data batch dimension: \", data_batch.size())\n",
    "print(\"data_batch: \", data_batch)\n",
    "print(\"labels: \", labels)"
   ]
  },
  {
   "cell_type": "markdown",
   "metadata": {
    "id": "HpdnYbPIgNXw"
   },
   "source": [
    "# Build a BiLSTM Classifier \n",
    "\n",
    "Now we are going to build a BiLSTM classifier. \n",
    "\n",
    "The hyperparameters for LSTM are already given, but they are not necessarily optimal. You should get a good accuracy with these hyperparameters but you may try to tune the hyperparameters and use different hyperparameters to get better performance.\n",
    "\n",
    "* `__init__`: Class constructor. Here we define layers / parameters of LSTM.\n",
    "* `forward`: This function is used whenever you call your object as `model()`. It takes the input minibatch and returns the output representation from LSTM."
   ]
  },
  {
   "cell_type": "code",
   "execution_count": 13,
   "metadata": {
    "id": "GOYEmADNDVIh"
   },
   "outputs": [],
   "source": [
    "# First import torch related libraries\n",
    "import torch\n",
    "import torch.nn as nn\n",
    "import torch.nn.functional as F\n",
    "\n",
    "class LSTMClassifier(nn.Module):\n",
    "    \"\"\"\n",
    "    LSTMClassifier classification model\n",
    "    \"\"\"\n",
    "\n",
    "    def __init__(self, embeddings, hidden_size, num_layers, num_classes, bidirectional, dropout_prob=0.3):\n",
    "        super().__init__()\n",
    "        self.embedding_layer = self.load_pretrained_embeddings(embeddings)\n",
    "        self.dropout = nn.Dropout(dropout_prob)\n",
    "        self.lstm = nn.LSTM(input_size=embeddings.shape[1], hidden_size=hidden_size, num_layers=num_layers,\n",
    "                            bidirectional=bidirectional, batch_first=True)\n",
    "        self.non_linearity = nn.ReLU()  # For example, ReLU\n",
    "        self.clf = nn.Linear(hidden_size * 2 if bidirectional else hidden_size, num_classes)  # classifier layer\n",
    "        \"\"\"\n",
    "           Define the components of your BiLSTM Classifier model\n",
    "           \n",
    "        \"\"\"\n",
    "\n",
    "    def load_pretrained_embeddings(self, embeddings):\n",
    "        \"\"\"\n",
    "           The code for loading embeddings from Lab 3 Deep Learning\n",
    "           we are not setting `embedding_layer.weight.requires_grad = False`\n",
    "           because we want to finetune the embeddings on our data\n",
    "        \"\"\"\n",
    "        embedding_layer = nn.Embedding(embeddings.shape[0], embeddings.shape[1], padding_idx=0)\n",
    "        embedding_layer.weight.data = torch.Tensor(embeddings).float()\n",
    "        return embedding_layer\n",
    "\n",
    "    def forward(self, inputs):\n",
    "        logits = None\n",
    "        \"\"\"\n",
    "           Write forward pass for LSTM. \n",
    "        \"\"\"\n",
    "\n",
    "        embed_out = self.dropout(self.embedding_layer(inputs))\n",
    "        lstm_out, (_, _) = self.lstm(embed_out)\n",
    "        mean_out = torch.mean(lstm_out, dim=1)\n",
    "        logits = self.clf(self.non_linearity(mean_out))\n",
    "\n",
    "        return logits"
   ]
  },
  {
   "cell_type": "markdown",
   "metadata": {
    "id": "p6P7O47Lfr0a"
   },
   "source": [
    "First, we will define an evaluation function that will return the accuracy of the model. We will use this to compute validation accuracy and test accuracy of the model given a dataloader."
   ]
  },
  {
   "cell_type": "code",
   "execution_count": 14,
   "metadata": {
    "id": "dSkdBx1ULCFK"
   },
   "outputs": [],
   "source": [
    "def evaluate(model, dataloader, device):\n",
    "    accuracy = 0\n",
    "    model.eval()\n",
    "    \"\"\"\n",
    "        \n",
    "        Calculate the accuracy of the model on the data in dataloader\n",
    "        You may refer to `run_inference` function from Lab 3 part 1.\n",
    "    \"\"\"\n",
    "    model.to(device)\n",
    "    for batch_data, batch_label in dataloader:\n",
    "        y_hat = model(batch_data.to(device))\n",
    "        accuracy += (torch.argmax(y_hat.detach().cpu(), dim=-1) == batch_label).sum() / batch_data.shape[0]\n",
    "        break\n",
    "\n",
    "    accuracy = accuracy.item()\n",
    "\n",
    "    return accuracy"
   ]
  },
  {
   "cell_type": "markdown",
   "metadata": {
    "id": "JpCXZCO7iuEL"
   },
   "source": [
    "# Initialize the BiLSTM classifier model, criterion and optimizer\n"
   ]
  },
  {
   "cell_type": "code",
   "execution_count": 15,
   "metadata": {
    "id": "YaPW_CjlK0F7"
   },
   "outputs": [],
   "source": [
    "# BiLSTM hyperparameters\n",
    "hidden_size = 32\n",
    "num_layers = 1\n",
    "num_classes = 2\n",
    "bidirectional=True\n",
    "torch.manual_seed(1234)\n",
    "\n",
    "# if cuda exists, use cuda, else run on cpu\n",
    "if torch.cuda.is_available():\n",
    "    device = torch.device(\"cuda:0\")\n",
    "else:\n",
    "    device=torch.device('cpu')\n",
    "\n",
    "model = LSTMClassifier(embeddings, hidden_size, num_layers, num_classes, bidirectional)\n",
    "model.to(device)\n",
    "criterion = nn.CrossEntropyLoss()\n",
    "optimizer = optim.Adam(model.parameters(), lr=0.01)"
   ]
  },
  {
   "cell_type": "markdown",
   "metadata": {
    "id": "GwkHYzbQikT4"
   },
   "source": [
    "# Train model with early stopping \n",
    "\n",
    "Train the model for `NUM_EPOCHS`. \n",
    "Keep track of training loss.  \n",
    "Compute the validation accuracy after each epoch. Keep track of the best validation accuracy and save the model with the best validation accuracy.  \n",
    "\n",
    "If the validation accuracy does not improve for more than `early_stop_patience` number of epochs in a row, stop training. \n"
   ]
  },
  {
   "cell_type": "code",
   "execution_count": 16,
   "metadata": {
    "colab": {
     "base_uri": "https://localhost:8080/",
     "height": 66,
     "referenced_widgets": [
      "14540a4dff454915851a5f90074274a4",
      "4b7eecd0523d4c97bb3ff3a9a62f4b26",
      "f4fb0dc8f2dd4c4ba8a2b770ce68a03d",
      "de7bae249b4c4b5fbb3e5417dd33ad77",
      "502986b79450400b9d87a9b928e54586",
      "a5f9e4880334409e8022ee1929b697e6",
      "e3aab191f1d94bf59fe65077c081ef00",
      "4b4a7adcc44b41b1944812fb88d6de92",
      "7f857b5f808e420f8014022ca5567c94",
      "5569f2b15e994eadaf7f5aa9a15c07bb",
      "7e5f5811ae4741c989f6bf6b2853e611"
     ]
    },
    "id": "QOlop_TMOD9V",
    "outputId": "6efcfe62-a91b-4cdb-d629-2bd940e69b3c"
   },
   "outputs": [
    {
     "data": {
      "application/vnd.jupyter.widget-view+json": {
       "model_id": "14540a4dff454915851a5f90074274a4",
       "version_major": 2,
       "version_minor": 0
      },
      "text/plain": [
       "  0%|          | 0/10 [00:00<?, ?it/s]"
      ]
     },
     "metadata": {},
     "output_type": "display_data"
    },
    {
     "name": "stdout",
     "output_type": "stream",
     "text": [
      "Best validation accuracy is:  1.0\n"
     ]
    }
   ],
   "source": [
    "train_loss_history = []\n",
    "val_accuracy_history = []\n",
    "best_val_accuracy = 0\n",
    "n_no_improve = 0\n",
    "early_stop_patience=2\n",
    "NUM_EPOCHS=10\n",
    "  \n",
    "for epoch in tqdm(range(NUM_EPOCHS)):\n",
    "    model.train()  # this enables dropout/regularization\n",
    "    for i, (data_batch, batch_labels) in enumerate(train_loader):\n",
    "        \"\"\"\n",
    "           Code for training lstm\n",
    "           Keep track of training of for each batch using train_loss_history\n",
    "        \"\"\"\n",
    "        preds = model(data_batch.to(device))\n",
    "        loss = criterion(preds, batch_labels.to(device))\n",
    "        optimizer.zero_grad()\n",
    "        loss.backward()\n",
    "        optimizer.step()\n",
    "\n",
    "        train_loss_history.append(loss.item())\n",
    "        \n",
    "    # The end of a training epoch \n",
    "\n",
    "    \"\"\"\n",
    "        Code for tracking best validation accuracy, saving the best model, and early stopping\n",
    "        # Compute validation accuracy after each training epoch using `evaluate` function\n",
    "        # Keep track of validation accuracy in `val_accuracy_history`\n",
    "        # save model with best validation accuracy\n",
    "        # Early stopping: \n",
    "        # stop training if the validation accuracy does not improve for more than `early_stop_patience` runs\n",
    "        \n",
    "    \"\"\"\n",
    "    curr_val_accuracy = evaluate(model, val_loader, device)\n",
    "    val_accuracy_history.append(curr_val_accuracy)\n",
    "\n",
    "    if curr_val_accuracy > best_val_accuracy:\n",
    "        best_val_accuracy = curr_val_accuracy\n",
    "        torch.save(model, 'best_model.pt')\n",
    "        n_no_improve = 0\n",
    "    else:\n",
    "        n_no_improve += 1\n",
    "\n",
    "        if n_no_improve > early_stop_patience:\n",
    "            break\n",
    "\n",
    "print(\"Best validation accuracy is: \", best_val_accuracy)"
   ]
  },
  {
   "cell_type": "markdown",
   "metadata": {
    "id": "I58rTeMEg05M"
   },
   "source": [
    "# Draw training curve \n",
    "X-axis: training steps, Y-axis: training loss\n",
    "\n"
   ]
  },
  {
   "cell_type": "code",
   "execution_count": 17,
   "metadata": {
    "colab": {
     "base_uri": "https://localhost:8080/",
     "height": 282
    },
    "id": "KyalZo6tSXo_",
    "outputId": "41a396cd-6320-4b5d-a99d-1c853cfcafaa"
   },
   "outputs": [
    {
     "data": {
      "text/plain": [
       "<matplotlib.axes._subplots.AxesSubplot at 0x7f651531bf90>"
      ]
     },
     "execution_count": 17,
     "metadata": {},
     "output_type": "execute_result"
    },
    {
     "data": {
      "image/png": "[encoded data removed]",
      "text/plain": [
       "<Figure size 432x288 with 1 Axes>"
      ]
     },
     "metadata": {
      "needs_background": "light"
     },
     "output_type": "display_data"
    }
   ],
   "source": [
    "pd.Series(train_loss_history).plot()"
   ]
  },
  {
   "cell_type": "markdown",
   "metadata": {
    "id": "oMiI_u4ggvQK"
   },
   "source": [
    "# Validation accuracy curve\n",
    "X-axis: Epochs, Y-axis: validation accuracy"
   ]
  },
  {
   "cell_type": "code",
   "execution_count": 18,
   "metadata": {
    "colab": {
     "base_uri": "https://localhost:8080/",
     "height": 282
    },
    "id": "Qt8iNjFwPVtc",
    "outputId": "d0bfd286-0953-4ab8-8fd6-2ca876b16a1b"
   },
   "outputs": [
    {
     "data": {
      "text/plain": [
       "<matplotlib.axes._subplots.AxesSubplot at 0x7f650c0867d0>"
      ]
     },
     "execution_count": 18,
     "metadata": {},
     "output_type": "execute_result"
    },
    {
     "data": {
      "image/png": "[encoded data removed]",
      "text/plain": [
       "<Figure size 432x288 with 1 Axes>"
      ]
     },
     "metadata": {
      "needs_background": "light"
     },
     "output_type": "display_data"
    }
   ],
   "source": [
    "pd.Series(val_accuracy_history).plot()"
   ]
  },
  {
   "cell_type": "markdown",
   "metadata": {
    "id": "qqanG00Ggluj"
   },
   "source": [
    "##  Test Accuracy"
   ]
  },
  {
   "cell_type": "code",
   "execution_count": 19,
   "metadata": {
    "colab": {
     "base_uri": "https://localhost:8080/"
    },
    "id": "cw6KtE2uSf1X",
    "outputId": "82fcb7a9-a2ac-4e65-d1ca-6c91e0d0cb46"
   },
   "outputs": [
    {
     "name": "stdout",
     "output_type": "stream",
     "text": [
      "0.96875\n"
     ]
    }
   ],
   "source": [
    "# Reload best model from saved checkpoint\n",
    "# Compute test accuracy\n",
    "model = torch.load('best_model.pt')\n",
    "test_accuracy = evaluate(model, test_loader, device)\n",
    "print(test_accuracy)"
   ]
  }
 ],
 "metadata": {
  "accelerator": "GPU",
  "colab": {
   "collapsed_sections": [],
   "name": "HW2_Spam_Classification_with_LSTM（Corrina cz1520).ipynb",
   "provenance": []
  },
  "kernelspec": {
   "display_name": "Python 3",
   "language": "python",
   "name": "python3"
  },
  "language_info": {
   "codemirror_mode": {
    "name": "ipython",
    "version": 3
   },
   "file_extension": ".py",
   "mimetype": "text/x-python",
   "name": "python",
   "nbconvert_exporter": "python",
   "pygments_lexer": "ipython3",
   "version": "3.7.6"
  },
  "toc": {
   "base_numbering": 1,
   "nav_menu": {},
   "number_sections": true,
   "sideBar": true,
   "skip_h1_title": false,
   "title_cell": "Table of Contents",
   "title_sidebar": "Contents",
   "toc_cell": false,
   "toc_position": {},
   "toc_section_display": true,
   "toc_window_display": false
  },
  "widgets": {
   "application/vnd.jupyter.widget-state+json": {
    "021be8b17b564ee9acd98ef4c404b3d5": {
     "model_module": "@jupyter-widgets/base",
     "model_module_version": "1.2.0",
     "model_name": "LayoutModel",
     "state": {
      "_model_module": "@jupyter-widgets/base",
      "_model_module_version": "1.2.0",
      "_model_name": "LayoutModel",
      "_view_count": null,
      "_view_module": "@jupyter-widgets/base",
      "_view_module_version": "1.2.0",
      "_view_name": "LayoutView",
      "align_content": null,
      "align_items": null,
      "align_self": null,
      "border": null,
      "bottom": null,
      "display": null,
      "flex": null,
      "flex_flow": null,
      "grid_area": null,
      "grid_auto_columns": null,
      "grid_auto_flow": null,
      "grid_auto_rows": null,
      "grid_column": null,
      "grid_gap": null,
      "grid_row": null,
      "grid_template_areas": null,
      "grid_template_columns": null,
      "grid_template_rows": null,
      "height": null,
      "justify_content": null,
      "justify_items": null,
      "left": null,
      "margin": null,
      "max_height": null,
      "max_width": null,
      "min_height": null,
      "min_width": null,
      "object_fit": null,
      "object_position": null,
      "order": null,
      "overflow": null,
      "overflow_x": null,
      "overflow_y": null,
      "padding": null,
      "right": null,
      "top": null,
      "visibility": null,
      "width": null
     }
    },
    "03cc408933464a9f86d64bdad1fde89e": {
     "model_module": "@jupyter-widgets/controls",
     "model_module_version": "1.5.0",
     "model_name": "HTMLModel",
     "state": {
      "_dom_classes": [],
      "_model_module": "@jupyter-widgets/controls",
      "_model_module_version": "1.5.0",
      "_model_name": "HTMLModel",
      "_view_count": null,
      "_view_module": "@jupyter-widgets/controls",
      "_view_module_version": "1.5.0",
      "_view_name": "HTMLView",
      "description": "",
      "description_tooltip": null,
      "layout": "IPY_MODEL_e9bf5de8b2284d47992d77fe17f2ba51",
      "placeholder": "​",
      "style": "IPY_MODEL_823467816baa45b39a19709ac38c7658",
      "value": " 835/835 [00:00&lt;00:00, 1827.82it/s]"
     }
    },
    "05d6df91eb674f6aa645b59402be129d": {
     "model_module": "@jupyter-widgets/controls",
     "model_module_version": "1.5.0",
     "model_name": "HTMLModel",
     "state": {
      "_dom_classes": [],
      "_model_module": "@jupyter-widgets/controls",
      "_model_module_version": "1.5.0",
      "_model_name": "HTMLModel",
      "_view_count": null,
      "_view_module": "@jupyter-widgets/controls",
      "_view_module_version": "1.5.0",
      "_view_name": "HTMLView",
      "description": "",
      "description_tooltip": null,
      "layout": "IPY_MODEL_9df6101f59e149c5bc59e128aa05ead3",
      "placeholder": "​",
      "style": "IPY_MODEL_e20b8ed0e4ec456b8df8755144ca424a",
      "value": "100%"
     }
    },
    "070cca35f8a0428ca1cb8264c104f595": {
     "model_module": "@jupyter-widgets/controls",
     "model_module_version": "1.5.0",
     "model_name": "HBoxModel",
     "state": {
      "_dom_classes": [],
      "_model_module": "@jupyter-widgets/controls",
      "_model_module_version": "1.5.0",
      "_model_name": "HBoxModel",
      "_view_count": null,
      "_view_module": "@jupyter-widgets/controls",
      "_view_module_version": "1.5.0",
      "_view_name": "HBoxView",
      "box_style": "",
      "children": [
       "IPY_MODEL_7c2ca65275c7457183b1404ccdfcf59a",
       "IPY_MODEL_3773565a1a4c427cbb654e33f594e2e7",
       "IPY_MODEL_da41f3314fa14218a8c2bdc3f023abdd"
      ],
      "layout": "IPY_MODEL_495a9e8081c04a4689c4734a4327e667"
     }
    },
    "14540a4dff454915851a5f90074274a4": {
     "model_module": "@jupyter-widgets/controls",
     "model_module_version": "1.5.0",
     "model_name": "HBoxModel",
     "state": {
      "_dom_classes": [],
      "_model_module": "@jupyter-widgets/controls",
      "_model_module_version": "1.5.0",
      "_model_name": "HBoxModel",
      "_view_count": null,
      "_view_module": "@jupyter-widgets/controls",
      "_view_module_version": "1.5.0",
      "_view_name": "HBoxView",
      "box_style": "",
      "children": [
       "IPY_MODEL_f4fb0dc8f2dd4c4ba8a2b770ce68a03d",
       "IPY_MODEL_de7bae249b4c4b5fbb3e5417dd33ad77",
       "IPY_MODEL_502986b79450400b9d87a9b928e54586"
      ],
      "layout": "IPY_MODEL_4b7eecd0523d4c97bb3ff3a9a62f4b26"
     }
    },
    "1455169843d0487a941269e73aa7b5cd": {
     "model_module": "@jupyter-widgets/base",
     "model_module_version": "1.2.0",
     "model_name": "LayoutModel",
     "state": {
      "_model_module": "@jupyter-widgets/base",
      "_model_module_version": "1.2.0",
      "_model_name": "LayoutModel",
      "_view_count": null,
      "_view_module": "@jupyter-widgets/base",
      "_view_module_version": "1.2.0",
      "_view_name": "LayoutView",
      "align_content": null,
      "align_items": null,
      "align_self": null,
      "border": null,
      "bottom": null,
      "display": null,
      "flex": null,
      "flex_flow": null,
      "grid_area": null,
      "grid_auto_columns": null,
      "grid_auto_flow": null,
      "grid_auto_rows": null,
      "grid_column": null,
      "grid_gap": null,
      "grid_row": null,
      "grid_template_areas": null,
      "grid_template_columns": null,
      "grid_template_rows": null,
      "height": null,
      "justify_content": null,
      "justify_items": null,
      "left": null,
      "margin": null,
      "max_height": null,
      "max_width": null,
      "min_height": null,
      "min_width": null,
      "object_fit": null,
      "object_position": null,
      "order": null,
      "overflow": null,
      "overflow_x": null,
      "overflow_y": null,
      "padding": null,
      "right": null,
      "top": null,
      "visibility": null,
      "width": null
     }
    },
    "15167bd41b3d4694b69f4a934635fb7c": {
     "model_module": "@jupyter-widgets/controls",
     "model_module_version": "1.5.0",
     "model_name": "DescriptionStyleModel",
     "state": {
      "_model_module": "@jupyter-widgets/controls",
      "_model_module_version": "1.5.0",
      "_model_name": "DescriptionStyleModel",
      "_view_count": null,
      "_view_module": "@jupyter-widgets/base",
      "_view_module_version": "1.2.0",
      "_view_name": "StyleView",
      "description_width": ""
     }
    },
    "18d36b424a7c44d6838f33e2d0a78199": {
     "model_module": "@jupyter-widgets/base",
     "model_module_version": "1.2.0",
     "model_name": "LayoutModel",
     "state": {
      "_model_module": "@jupyter-widgets/base",
      "_model_module_version": "1.2.0",
      "_model_name": "LayoutModel",
      "_view_count": null,
      "_view_module": "@jupyter-widgets/base",
      "_view_module_version": "1.2.0",
      "_view_name": "LayoutView",
      "align_content": null,
      "align_items": null,
      "align_self": null,
      "border": null,
      "bottom": null,
      "display": null,
      "flex": null,
      "flex_flow": null,
      "grid_area": null,
      "grid_auto_columns": null,
      "grid_auto_flow": null,
      "grid_auto_rows": null,
      "grid_column": null,
      "grid_gap": null,
      "grid_row": null,
      "grid_template_areas": null,
      "grid_template_columns": null,
      "grid_template_rows": null,
      "height": null,
      "justify_content": null,
      "justify_items": null,
      "left": null,
      "margin": null,
      "max_height": null,
      "max_width": null,
      "min_height": null,
      "min_width": null,
      "object_fit": null,
      "object_position": null,
      "order": null,
      "overflow": null,
      "overflow_x": null,
      "overflow_y": null,
      "padding": null,
      "right": null,
      "top": null,
      "visibility": null,
      "width": null
     }
    },
    "1a2aa28f4520452eb2cd5753ab3efedb": {
     "model_module": "@jupyter-widgets/controls",
     "model_module_version": "1.5.0",
     "model_name": "FloatProgressModel",
     "state": {
      "_dom_classes": [],
      "_model_module": "@jupyter-widgets/controls",
      "_model_module_version": "1.5.0",
      "_model_name": "FloatProgressModel",
      "_view_count": null,
      "_view_module": "@jupyter-widgets/controls",
      "_view_module_version": "1.5.0",
      "_view_name": "ProgressView",
      "bar_style": "success",
      "description": "",
      "description_tooltip": null,
      "layout": "IPY_MODEL_e73a6ec54e704bf4967bbb260dd90662",
      "max": 835,
      "min": 0,
      "orientation": "horizontal",
      "style": "IPY_MODEL_6b52f10ee33e4bc2877f886aaa2bc682",
      "value": 835
     }
    },
    "1b1d8b14277d41dfab47095ee36db34f": {
     "model_module": "@jupyter-widgets/controls",
     "model_module_version": "1.5.0",
     "model_name": "FloatProgressModel",
     "state": {
      "_dom_classes": [],
      "_model_module": "@jupyter-widgets/controls",
      "_model_module_version": "1.5.0",
      "_model_name": "FloatProgressModel",
      "_view_count": null,
      "_view_module": "@jupyter-widgets/controls",
      "_view_module_version": "1.5.0",
      "_view_name": "ProgressView",
      "bar_style": "success",
      "description": "",
      "description_tooltip": null,
      "layout": "IPY_MODEL_8f4f1ca48cba45cca76bc5d41c00d2ab",
      "max": 835,
      "min": 0,
      "orientation": "horizontal",
      "style": "IPY_MODEL_2b514802e7824415b3fad5888ace3009",
      "value": 835
     }
    },
    "2b514802e7824415b3fad5888ace3009": {
     "model_module": "@jupyter-widgets/controls",
     "model_module_version": "1.5.0",
     "model_name": "ProgressStyleModel",
     "state": {
      "_model_module": "@jupyter-widgets/controls",
      "_model_module_version": "1.5.0",
      "_model_name": "ProgressStyleModel",
      "_view_count": null,
      "_view_module": "@jupyter-widgets/base",
      "_view_module_version": "1.2.0",
      "_view_name": "StyleView",
      "bar_color": null,
      "description_width": ""
     }
    },
    "3773565a1a4c427cbb654e33f594e2e7": {
     "model_module": "@jupyter-widgets/controls",
     "model_module_version": "1.5.0",
     "model_name": "FloatProgressModel",
     "state": {
      "_dom_classes": [],
      "_model_module": "@jupyter-widgets/controls",
      "_model_module_version": "1.5.0",
      "_model_name": "FloatProgressModel",
      "_view_count": null,
      "_view_module": "@jupyter-widgets/controls",
      "_view_module_version": "1.5.0",
      "_view_name": "ProgressView",
      "bar_style": "success",
      "description": "",
      "description_tooltip": null,
      "layout": "IPY_MODEL_1455169843d0487a941269e73aa7b5cd",
      "max": 3902,
      "min": 0,
      "orientation": "horizontal",
      "style": "IPY_MODEL_bdade669d06e40ebad30dbe172c1224b",
      "value": 3902
     }
    },
    "495a9e8081c04a4689c4734a4327e667": {
     "model_module": "@jupyter-widgets/base",
     "model_module_version": "1.2.0",
     "model_name": "LayoutModel",
     "state": {
      "_model_module": "@jupyter-widgets/base",
      "_model_module_version": "1.2.0",
      "_model_name": "LayoutModel",
      "_view_count": null,
      "_view_module": "@jupyter-widgets/base",
      "_view_module_version": "1.2.0",
      "_view_name": "LayoutView",
      "align_content": null,
      "align_items": null,
      "align_self": null,
      "border": null,
      "bottom": null,
      "display": null,
      "flex": null,
      "flex_flow": null,
      "grid_area": null,
      "grid_auto_columns": null,
      "grid_auto_flow": null,
      "grid_auto_rows": null,
      "grid_column": null,
      "grid_gap": null,
      "grid_row": null,
      "grid_template_areas": null,
      "grid_template_columns": null,
      "grid_template_rows": null,
      "height": null,
      "justify_content": null,
      "justify_items": null,
      "left": null,
      "margin": null,
      "max_height": null,
      "max_width": null,
      "min_height": null,
      "min_width": null,
      "object_fit": null,
      "object_position": null,
      "order": null,
      "overflow": null,
      "overflow_x": null,
      "overflow_y": null,
      "padding": null,
      "right": null,
      "top": null,
      "visibility": null,
      "width": null
     }
    },
    "4b4a7adcc44b41b1944812fb88d6de92": {
     "model_module": "@jupyter-widgets/controls",
     "model_module_version": "1.5.0",
     "model_name": "ProgressStyleModel",
     "state": {
      "_model_module": "@jupyter-widgets/controls",
      "_model_module_version": "1.5.0",
      "_model_name": "ProgressStyleModel",
      "_view_count": null,
      "_view_module": "@jupyter-widgets/base",
      "_view_module_version": "1.2.0",
      "_view_name": "StyleView",
      "bar_color": null,
      "description_width": ""
     }
    },
    "4b7eecd0523d4c97bb3ff3a9a62f4b26": {
     "model_module": "@jupyter-widgets/base",
     "model_module_version": "1.2.0",
     "model_name": "LayoutModel",
     "state": {
      "_model_module": "@jupyter-widgets/base",
      "_model_module_version": "1.2.0",
      "_model_name": "LayoutModel",
      "_view_count": null,
      "_view_module": "@jupyter-widgets/base",
      "_view_module_version": "1.2.0",
      "_view_name": "LayoutView",
      "align_content": null,
      "align_items": null,
      "align_self": null,
      "border": null,
      "bottom": null,
      "display": null,
      "flex": null,
      "flex_flow": null,
      "grid_area": null,
      "grid_auto_columns": null,
      "grid_auto_flow": null,
      "grid_auto_rows": null,
      "grid_column": null,
      "grid_gap": null,
      "grid_row": null,
      "grid_template_areas": null,
      "grid_template_columns": null,
      "grid_template_rows": null,
      "height": null,
      "justify_content": null,
      "justify_items": null,
      "left": null,
      "margin": null,
      "max_height": null,
      "max_width": null,
      "min_height": null,
      "min_width": null,
      "object_fit": null,
      "object_position": null,
      "order": null,
      "overflow": null,
      "overflow_x": null,
      "overflow_y": null,
      "padding": null,
      "right": null,
      "top": null,
      "visibility": null,
      "width": null
     }
    },
    "502986b79450400b9d87a9b928e54586": {
     "model_module": "@jupyter-widgets/controls",
     "model_module_version": "1.5.0",
     "model_name": "HTMLModel",
     "state": {
      "_dom_classes": [],
      "_model_module": "@jupyter-widgets/controls",
      "_model_module_version": "1.5.0",
      "_model_name": "HTMLModel",
      "_view_count": null,
      "_view_module": "@jupyter-widgets/controls",
      "_view_module_version": "1.5.0",
      "_view_name": "HTMLView",
      "description": "",
      "description_tooltip": null,
      "layout": "IPY_MODEL_7e5f5811ae4741c989f6bf6b2853e611",
      "placeholder": "​",
      "style": "IPY_MODEL_5569f2b15e994eadaf7f5aa9a15c07bb",
      "value": " 4/10 [00:09&lt;00:10,  1.70s/it]"
     }
    },
    "5569f2b15e994eadaf7f5aa9a15c07bb": {
     "model_module": "@jupyter-widgets/controls",
     "model_module_version": "1.5.0",
     "model_name": "DescriptionStyleModel",
     "state": {
      "_model_module": "@jupyter-widgets/controls",
      "_model_module_version": "1.5.0",
      "_model_name": "DescriptionStyleModel",
      "_view_count": null,
      "_view_module": "@jupyter-widgets/base",
      "_view_module_version": "1.2.0",
      "_view_name": "StyleView",
      "description_width": ""
     }
    },
    "57e01ea5914b4c6f87a57d221b6b522e": {
     "model_module": "@jupyter-widgets/base",
     "model_module_version": "1.2.0",
     "model_name": "LayoutModel",
     "state": {
      "_model_module": "@jupyter-widgets/base",
      "_model_module_version": "1.2.0",
      "_model_name": "LayoutModel",
      "_view_count": null,
      "_view_module": "@jupyter-widgets/base",
      "_view_module_version": "1.2.0",
      "_view_name": "LayoutView",
      "align_content": null,
      "align_items": null,
      "align_self": null,
      "border": null,
      "bottom": null,
      "display": null,
      "flex": null,
      "flex_flow": null,
      "grid_area": null,
      "grid_auto_columns": null,
      "grid_auto_flow": null,
      "grid_auto_rows": null,
      "grid_column": null,
      "grid_gap": null,
      "grid_row": null,
      "grid_template_areas": null,
      "grid_template_columns": null,
      "grid_template_rows": null,
      "height": null,
      "justify_content": null,
      "justify_items": null,
      "left": null,
      "margin": null,
      "max_height": null,
      "max_width": null,
      "min_height": null,
      "min_width": null,
      "object_fit": null,
      "object_position": null,
      "order": null,
      "overflow": null,
      "overflow_x": null,
      "overflow_y": null,
      "padding": null,
      "right": null,
      "top": null,
      "visibility": null,
      "width": null
     }
    },
    "6137377ded0c4a71a1a8c274c52cd4e0": {
     "model_module": "@jupyter-widgets/controls",
     "model_module_version": "1.5.0",
     "model_name": "DescriptionStyleModel",
     "state": {
      "_model_module": "@jupyter-widgets/controls",
      "_model_module_version": "1.5.0",
      "_model_name": "DescriptionStyleModel",
      "_view_count": null,
      "_view_module": "@jupyter-widgets/base",
      "_view_module_version": "1.2.0",
      "_view_name": "StyleView",
      "description_width": ""
     }
    },
    "6b52f10ee33e4bc2877f886aaa2bc682": {
     "model_module": "@jupyter-widgets/controls",
     "model_module_version": "1.5.0",
     "model_name": "ProgressStyleModel",
     "state": {
      "_model_module": "@jupyter-widgets/controls",
      "_model_module_version": "1.5.0",
      "_model_name": "ProgressStyleModel",
      "_view_count": null,
      "_view_module": "@jupyter-widgets/base",
      "_view_module_version": "1.2.0",
      "_view_name": "StyleView",
      "bar_color": null,
      "description_width": ""
     }
    },
    "6b9832158c0c480588d39ced06b784a1": {
     "model_module": "@jupyter-widgets/base",
     "model_module_version": "1.2.0",
     "model_name": "LayoutModel",
     "state": {
      "_model_module": "@jupyter-widgets/base",
      "_model_module_version": "1.2.0",
      "_model_name": "LayoutModel",
      "_view_count": null,
      "_view_module": "@jupyter-widgets/base",
      "_view_module_version": "1.2.0",
      "_view_name": "LayoutView",
      "align_content": null,
      "align_items": null,
      "align_self": null,
      "border": null,
      "bottom": null,
      "display": null,
      "flex": null,
      "flex_flow": null,
      "grid_area": null,
      "grid_auto_columns": null,
      "grid_auto_flow": null,
      "grid_auto_rows": null,
      "grid_column": null,
      "grid_gap": null,
      "grid_row": null,
      "grid_template_areas": null,
      "grid_template_columns": null,
      "grid_template_rows": null,
      "height": null,
      "justify_content": null,
      "justify_items": null,
      "left": null,
      "margin": null,
      "max_height": null,
      "max_width": null,
      "min_height": null,
      "min_width": null,
      "object_fit": null,
      "object_position": null,
      "order": null,
      "overflow": null,
      "overflow_x": null,
      "overflow_y": null,
      "padding": null,
      "right": null,
      "top": null,
      "visibility": null,
      "width": null
     }
    },
    "7c2ca65275c7457183b1404ccdfcf59a": {
     "model_module": "@jupyter-widgets/controls",
     "model_module_version": "1.5.0",
     "model_name": "HTMLModel",
     "state": {
      "_dom_classes": [],
      "_model_module": "@jupyter-widgets/controls",
      "_model_module_version": "1.5.0",
      "_model_name": "HTMLModel",
      "_view_count": null,
      "_view_module": "@jupyter-widgets/controls",
      "_view_module_version": "1.5.0",
      "_view_name": "HTMLView",
      "description": "",
      "description_tooltip": null,
      "layout": "IPY_MODEL_d23f22b51b9a459ea4bc0382eb4293ca",
      "placeholder": "​",
      "style": "IPY_MODEL_92e97177347d4577aa0335c0225c5d4f",
      "value": "100%"
     }
    },
    "7e5f5811ae4741c989f6bf6b2853e611": {
     "model_module": "@jupyter-widgets/base",
     "model_module_version": "1.2.0",
     "model_name": "LayoutModel",
     "state": {
      "_model_module": "@jupyter-widgets/base",
      "_model_module_version": "1.2.0",
      "_model_name": "LayoutModel",
      "_view_count": null,
      "_view_module": "@jupyter-widgets/base",
      "_view_module_version": "1.2.0",
      "_view_name": "LayoutView",
      "align_content": null,
      "align_items": null,
      "align_self": null,
      "border": null,
      "bottom": null,
      "display": null,
      "flex": null,
      "flex_flow": null,
      "grid_area": null,
      "grid_auto_columns": null,
      "grid_auto_flow": null,
      "grid_auto_rows": null,
      "grid_column": null,
      "grid_gap": null,
      "grid_row": null,
      "grid_template_areas": null,
      "grid_template_columns": null,
      "grid_template_rows": null,
      "height": null,
      "justify_content": null,
      "justify_items": null,
      "left": null,
      "margin": null,
      "max_height": null,
      "max_width": null,
      "min_height": null,
      "min_width": null,
      "object_fit": null,
      "object_position": null,
      "order": null,
      "overflow": null,
      "overflow_x": null,
      "overflow_y": null,
      "padding": null,
      "right": null,
      "top": null,
      "visibility": null,
      "width": null
     }
    },
    "7f857b5f808e420f8014022ca5567c94": {
     "model_module": "@jupyter-widgets/base",
     "model_module_version": "1.2.0",
     "model_name": "LayoutModel",
     "state": {
      "_model_module": "@jupyter-widgets/base",
      "_model_module_version": "1.2.0",
      "_model_name": "LayoutModel",
      "_view_count": null,
      "_view_module": "@jupyter-widgets/base",
      "_view_module_version": "1.2.0",
      "_view_name": "LayoutView",
      "align_content": null,
      "align_items": null,
      "align_self": null,
      "border": null,
      "bottom": null,
      "display": null,
      "flex": null,
      "flex_flow": null,
      "grid_area": null,
      "grid_auto_columns": null,
      "grid_auto_flow": null,
      "grid_auto_rows": null,
      "grid_column": null,
      "grid_gap": null,
      "grid_row": null,
      "grid_template_areas": null,
      "grid_template_columns": null,
      "grid_template_rows": null,
      "height": null,
      "justify_content": null,
      "justify_items": null,
      "left": null,
      "margin": null,
      "max_height": null,
      "max_width": null,
      "min_height": null,
      "min_width": null,
      "object_fit": null,
      "object_position": null,
      "order": null,
      "overflow": null,
      "overflow_x": null,
      "overflow_y": null,
      "padding": null,
      "right": null,
      "top": null,
      "visibility": null,
      "width": null
     }
    },
    "823467816baa45b39a19709ac38c7658": {
     "model_module": "@jupyter-widgets/controls",
     "model_module_version": "1.5.0",
     "model_name": "DescriptionStyleModel",
     "state": {
      "_model_module": "@jupyter-widgets/controls",
      "_model_module_version": "1.5.0",
      "_model_name": "DescriptionStyleModel",
      "_view_count": null,
      "_view_module": "@jupyter-widgets/base",
      "_view_module_version": "1.2.0",
      "_view_name": "StyleView",
      "description_width": ""
     }
    },
    "86b599cdaf0843448e6fa9a48b1f539f": {
     "model_module": "@jupyter-widgets/controls",
     "model_module_version": "1.5.0",
     "model_name": "HBoxModel",
     "state": {
      "_dom_classes": [],
      "_model_module": "@jupyter-widgets/controls",
      "_model_module_version": "1.5.0",
      "_model_name": "HBoxModel",
      "_view_count": null,
      "_view_module": "@jupyter-widgets/controls",
      "_view_module_version": "1.5.0",
      "_view_name": "HBoxView",
      "box_style": "",
      "children": [
       "IPY_MODEL_05d6df91eb674f6aa645b59402be129d",
       "IPY_MODEL_1b1d8b14277d41dfab47095ee36db34f",
       "IPY_MODEL_a03cbc4a77f74e648d65fcaaab3f7d5e"
      ],
      "layout": "IPY_MODEL_c5f4a70757894f2c85643d9f83526398"
     }
    },
    "8f4f1ca48cba45cca76bc5d41c00d2ab": {
     "model_module": "@jupyter-widgets/base",
     "model_module_version": "1.2.0",
     "model_name": "LayoutModel",
     "state": {
      "_model_module": "@jupyter-widgets/base",
      "_model_module_version": "1.2.0",
      "_model_name": "LayoutModel",
      "_view_count": null,
      "_view_module": "@jupyter-widgets/base",
      "_view_module_version": "1.2.0",
      "_view_name": "LayoutView",
      "align_content": null,
      "align_items": null,
      "align_self": null,
      "border": null,
      "bottom": null,
      "display": null,
      "flex": null,
      "flex_flow": null,
      "grid_area": null,
      "grid_auto_columns": null,
      "grid_auto_flow": null,
      "grid_auto_rows": null,
      "grid_column": null,
      "grid_gap": null,
      "grid_row": null,
      "grid_template_areas": null,
      "grid_template_columns": null,
      "grid_template_rows": null,
      "height": null,
      "justify_content": null,
      "justify_items": null,
      "left": null,
      "margin": null,
      "max_height": null,
      "max_width": null,
      "min_height": null,
      "min_width": null,
      "object_fit": null,
      "object_position": null,
      "order": null,
      "overflow": null,
      "overflow_x": null,
      "overflow_y": null,
      "padding": null,
      "right": null,
      "top": null,
      "visibility": null,
      "width": null
     }
    },
    "92e97177347d4577aa0335c0225c5d4f": {
     "model_module": "@jupyter-widgets/controls",
     "model_module_version": "1.5.0",
     "model_name": "DescriptionStyleModel",
     "state": {
      "_model_module": "@jupyter-widgets/controls",
      "_model_module_version": "1.5.0",
      "_model_name": "DescriptionStyleModel",
      "_view_count": null,
      "_view_module": "@jupyter-widgets/base",
      "_view_module_version": "1.2.0",
      "_view_name": "StyleView",
      "description_width": ""
     }
    },
    "9944f00cfe7c40afb2e1bd73305ec5e0": {
     "model_module": "@jupyter-widgets/controls",
     "model_module_version": "1.5.0",
     "model_name": "DescriptionStyleModel",
     "state": {
      "_model_module": "@jupyter-widgets/controls",
      "_model_module_version": "1.5.0",
      "_model_name": "DescriptionStyleModel",
      "_view_count": null,
      "_view_module": "@jupyter-widgets/base",
      "_view_module_version": "1.2.0",
      "_view_name": "StyleView",
      "description_width": ""
     }
    },
    "9df6101f59e149c5bc59e128aa05ead3": {
     "model_module": "@jupyter-widgets/base",
     "model_module_version": "1.2.0",
     "model_name": "LayoutModel",
     "state": {
      "_model_module": "@jupyter-widgets/base",
      "_model_module_version": "1.2.0",
      "_model_name": "LayoutModel",
      "_view_count": null,
      "_view_module": "@jupyter-widgets/base",
      "_view_module_version": "1.2.0",
      "_view_name": "LayoutView",
      "align_content": null,
      "align_items": null,
      "align_self": null,
      "border": null,
      "bottom": null,
      "display": null,
      "flex": null,
      "flex_flow": null,
      "grid_area": null,
      "grid_auto_columns": null,
      "grid_auto_flow": null,
      "grid_auto_rows": null,
      "grid_column": null,
      "grid_gap": null,
      "grid_row": null,
      "grid_template_areas": null,
      "grid_template_columns": null,
      "grid_template_rows": null,
      "height": null,
      "justify_content": null,
      "justify_items": null,
      "left": null,
      "margin": null,
      "max_height": null,
      "max_width": null,
      "min_height": null,
      "min_width": null,
      "object_fit": null,
      "object_position": null,
      "order": null,
      "overflow": null,
      "overflow_x": null,
      "overflow_y": null,
      "padding": null,
      "right": null,
      "top": null,
      "visibility": null,
      "width": null
     }
    },
    "a03cbc4a77f74e648d65fcaaab3f7d5e": {
     "model_module": "@jupyter-widgets/controls",
     "model_module_version": "1.5.0",
     "model_name": "HTMLModel",
     "state": {
      "_dom_classes": [],
      "_model_module": "@jupyter-widgets/controls",
      "_model_module_version": "1.5.0",
      "_model_name": "HTMLModel",
      "_view_count": null,
      "_view_module": "@jupyter-widgets/controls",
      "_view_module_version": "1.5.0",
      "_view_name": "HTMLView",
      "description": "",
      "description_tooltip": null,
      "layout": "IPY_MODEL_6b9832158c0c480588d39ced06b784a1",
      "placeholder": "​",
      "style": "IPY_MODEL_6137377ded0c4a71a1a8c274c52cd4e0",
      "value": " 835/835 [00:00&lt;00:00, 1739.74it/s]"
     }
    },
    "a5f9e4880334409e8022ee1929b697e6": {
     "model_module": "@jupyter-widgets/controls",
     "model_module_version": "1.5.0",
     "model_name": "DescriptionStyleModel",
     "state": {
      "_model_module": "@jupyter-widgets/controls",
      "_model_module_version": "1.5.0",
      "_model_name": "DescriptionStyleModel",
      "_view_count": null,
      "_view_module": "@jupyter-widgets/base",
      "_view_module_version": "1.2.0",
      "_view_name": "StyleView",
      "description_width": ""
     }
    },
    "bdade669d06e40ebad30dbe172c1224b": {
     "model_module": "@jupyter-widgets/controls",
     "model_module_version": "1.5.0",
     "model_name": "ProgressStyleModel",
     "state": {
      "_model_module": "@jupyter-widgets/controls",
      "_model_module_version": "1.5.0",
      "_model_name": "ProgressStyleModel",
      "_view_count": null,
      "_view_module": "@jupyter-widgets/base",
      "_view_module_version": "1.2.0",
      "_view_name": "StyleView",
      "bar_color": null,
      "description_width": ""
     }
    },
    "c5f4a70757894f2c85643d9f83526398": {
     "model_module": "@jupyter-widgets/base",
     "model_module_version": "1.2.0",
     "model_name": "LayoutModel",
     "state": {
      "_model_module": "@jupyter-widgets/base",
      "_model_module_version": "1.2.0",
      "_model_name": "LayoutModel",
      "_view_count": null,
      "_view_module": "@jupyter-widgets/base",
      "_view_module_version": "1.2.0",
      "_view_name": "LayoutView",
      "align_content": null,
      "align_items": null,
      "align_self": null,
      "border": null,
      "bottom": null,
      "display": null,
      "flex": null,
      "flex_flow": null,
      "grid_area": null,
      "grid_auto_columns": null,
      "grid_auto_flow": null,
      "grid_auto_rows": null,
      "grid_column": null,
      "grid_gap": null,
      "grid_row": null,
      "grid_template_areas": null,
      "grid_template_columns": null,
      "grid_template_rows": null,
      "height": null,
      "justify_content": null,
      "justify_items": null,
      "left": null,
      "margin": null,
      "max_height": null,
      "max_width": null,
      "min_height": null,
      "min_width": null,
      "object_fit": null,
      "object_position": null,
      "order": null,
      "overflow": null,
      "overflow_x": null,
      "overflow_y": null,
      "padding": null,
      "right": null,
      "top": null,
      "visibility": null,
      "width": null
     }
    },
    "c8729fb8364943c6988348acd1f08d67": {
     "model_module": "@jupyter-widgets/controls",
     "model_module_version": "1.5.0",
     "model_name": "HTMLModel",
     "state": {
      "_dom_classes": [],
      "_model_module": "@jupyter-widgets/controls",
      "_model_module_version": "1.5.0",
      "_model_name": "HTMLModel",
      "_view_count": null,
      "_view_module": "@jupyter-widgets/controls",
      "_view_module_version": "1.5.0",
      "_view_name": "HTMLView",
      "description": "",
      "description_tooltip": null,
      "layout": "IPY_MODEL_18d36b424a7c44d6838f33e2d0a78199",
      "placeholder": "​",
      "style": "IPY_MODEL_9944f00cfe7c40afb2e1bd73305ec5e0",
      "value": "100%"
     }
    },
    "cc25c7fbf35c401295b81b1e3d9c4c3a": {
     "model_module": "@jupyter-widgets/controls",
     "model_module_version": "1.5.0",
     "model_name": "HBoxModel",
     "state": {
      "_dom_classes": [],
      "_model_module": "@jupyter-widgets/controls",
      "_model_module_version": "1.5.0",
      "_model_name": "HBoxModel",
      "_view_count": null,
      "_view_module": "@jupyter-widgets/controls",
      "_view_module_version": "1.5.0",
      "_view_name": "HBoxView",
      "box_style": "",
      "children": [
       "IPY_MODEL_c8729fb8364943c6988348acd1f08d67",
       "IPY_MODEL_1a2aa28f4520452eb2cd5753ab3efedb",
       "IPY_MODEL_03cc408933464a9f86d64bdad1fde89e"
      ],
      "layout": "IPY_MODEL_57e01ea5914b4c6f87a57d221b6b522e"
     }
    },
    "d23f22b51b9a459ea4bc0382eb4293ca": {
     "model_module": "@jupyter-widgets/base",
     "model_module_version": "1.2.0",
     "model_name": "LayoutModel",
     "state": {
      "_model_module": "@jupyter-widgets/base",
      "_model_module_version": "1.2.0",
      "_model_name": "LayoutModel",
      "_view_count": null,
      "_view_module": "@jupyter-widgets/base",
      "_view_module_version": "1.2.0",
      "_view_name": "LayoutView",
      "align_content": null,
      "align_items": null,
      "align_self": null,
      "border": null,
      "bottom": null,
      "display": null,
      "flex": null,
      "flex_flow": null,
      "grid_area": null,
      "grid_auto_columns": null,
      "grid_auto_flow": null,
      "grid_auto_rows": null,
      "grid_column": null,
      "grid_gap": null,
      "grid_row": null,
      "grid_template_areas": null,
      "grid_template_columns": null,
      "grid_template_rows": null,
      "height": null,
      "justify_content": null,
      "justify_items": null,
      "left": null,
      "margin": null,
      "max_height": null,
      "max_width": null,
      "min_height": null,
      "min_width": null,
      "object_fit": null,
      "object_position": null,
      "order": null,
      "overflow": null,
      "overflow_x": null,
      "overflow_y": null,
      "padding": null,
      "right": null,
      "top": null,
      "visibility": null,
      "width": null
     }
    },
    "da41f3314fa14218a8c2bdc3f023abdd": {
     "model_module": "@jupyter-widgets/controls",
     "model_module_version": "1.5.0",
     "model_name": "HTMLModel",
     "state": {
      "_dom_classes": [],
      "_model_module": "@jupyter-widgets/controls",
      "_model_module_version": "1.5.0",
      "_model_name": "HTMLModel",
      "_view_count": null,
      "_view_module": "@jupyter-widgets/controls",
      "_view_module_version": "1.5.0",
      "_view_name": "HTMLView",
      "description": "",
      "description_tooltip": null,
      "layout": "IPY_MODEL_021be8b17b564ee9acd98ef4c404b3d5",
      "placeholder": "​",
      "style": "IPY_MODEL_15167bd41b3d4694b69f4a934635fb7c",
      "value": " 3902/3902 [00:01&lt;00:00, 2846.27it/s]"
     }
    },
    "de7bae249b4c4b5fbb3e5417dd33ad77": {
     "model_module": "@jupyter-widgets/controls",
     "model_module_version": "1.5.0",
     "model_name": "FloatProgressModel",
     "state": {
      "_dom_classes": [],
      "_model_module": "@jupyter-widgets/controls",
      "_model_module_version": "1.5.0",
      "_model_name": "FloatProgressModel",
      "_view_count": null,
      "_view_module": "@jupyter-widgets/controls",
      "_view_module_version": "1.5.0",
      "_view_name": "ProgressView",
      "bar_style": "danger",
      "description": "",
      "description_tooltip": null,
      "layout": "IPY_MODEL_7f857b5f808e420f8014022ca5567c94",
      "max": 10,
      "min": 0,
      "orientation": "horizontal",
      "style": "IPY_MODEL_4b4a7adcc44b41b1944812fb88d6de92",
      "value": 4
     }
    },
    "e20b8ed0e4ec456b8df8755144ca424a": {
     "model_module": "@jupyter-widgets/controls",
     "model_module_version": "1.5.0",
     "model_name": "DescriptionStyleModel",
     "state": {
      "_model_module": "@jupyter-widgets/controls",
      "_model_module_version": "1.5.0",
      "_model_name": "DescriptionStyleModel",
      "_view_count": null,
      "_view_module": "@jupyter-widgets/base",
      "_view_module_version": "1.2.0",
      "_view_name": "StyleView",
      "description_width": ""
     }
    },
    "e3aab191f1d94bf59fe65077c081ef00": {
     "model_module": "@jupyter-widgets/base",
     "model_module_version": "1.2.0",
     "model_name": "LayoutModel",
     "state": {
      "_model_module": "@jupyter-widgets/base",
      "_model_module_version": "1.2.0",
      "_model_name": "LayoutModel",
      "_view_count": null,
      "_view_module": "@jupyter-widgets/base",
      "_view_module_version": "1.2.0",
      "_view_name": "LayoutView",
      "align_content": null,
      "align_items": null,
      "align_self": null,
      "border": null,
      "bottom": null,
      "display": null,
      "flex": null,
      "flex_flow": null,
      "grid_area": null,
      "grid_auto_columns": null,
      "grid_auto_flow": null,
      "grid_auto_rows": null,
      "grid_column": null,
      "grid_gap": null,
      "grid_row": null,
      "grid_template_areas": null,
      "grid_template_columns": null,
      "grid_template_rows": null,
      "height": null,
      "justify_content": null,
      "justify_items": null,
      "left": null,
      "margin": null,
      "max_height": null,
      "max_width": null,
      "min_height": null,
      "min_width": null,
      "object_fit": null,
      "object_position": null,
      "order": null,
      "overflow": null,
      "overflow_x": null,
      "overflow_y": null,
      "padding": null,
      "right": null,
      "top": null,
      "visibility": null,
      "width": null
     }
    },
    "e73a6ec54e704bf4967bbb260dd90662": {
     "model_module": "@jupyter-widgets/base",
     "model_module_version": "1.2.0",
     "model_name": "LayoutModel",
     "state": {
      "_model_module": "@jupyter-widgets/base",
      "_model_module_version": "1.2.0",
      "_model_name": "LayoutModel",
      "_view_count": null,
      "_view_module": "@jupyter-widgets/base",
      "_view_module_version": "1.2.0",
      "_view_name": "LayoutView",
      "align_content": null,
      "align_items": null,
      "align_self": null,
      "border": null,
      "bottom": null,
      "display": null,
      "flex": null,
      "flex_flow": null,
      "grid_area": null,
      "grid_auto_columns": null,
      "grid_auto_flow": null,
      "grid_auto_rows": null,
      "grid_column": null,
      "grid_gap": null,
      "grid_row": null,
      "grid_template_areas": null,
      "grid_template_columns": null,
      "grid_template_rows": null,
      "height": null,
      "justify_content": null,
      "justify_items": null,
      "left": null,
      "margin": null,
      "max_height": null,
      "max_width": null,
      "min_height": null,
      "min_width": null,
      "object_fit": null,
      "object_position": null,
      "order": null,
      "overflow": null,
      "overflow_x": null,
      "overflow_y": null,
      "padding": null,
      "right": null,
      "top": null,
      "visibility": null,
      "width": null
     }
    },
    "e9bf5de8b2284d47992d77fe17f2ba51": {
     "model_module": "@jupyter-widgets/base",
     "model_module_version": "1.2.0",
     "model_name": "LayoutModel",
     "state": {
      "_model_module": "@jupyter-widgets/base",
      "_model_module_version": "1.2.0",
      "_model_name": "LayoutModel",
      "_view_count": null,
      "_view_module": "@jupyter-widgets/base",
      "_view_module_version": "1.2.0",
      "_view_name": "LayoutView",
      "align_content": null,
      "align_items": null,
      "align_self": null,
      "border": null,
      "bottom": null,
      "display": null,
      "flex": null,
      "flex_flow": null,
      "grid_area": null,
      "grid_auto_columns": null,
      "grid_auto_flow": null,
      "grid_auto_rows": null,
      "grid_column": null,
      "grid_gap": null,
      "grid_row": null,
      "grid_template_areas": null,
      "grid_template_columns": null,
      "grid_template_rows": null,
      "height": null,
      "justify_content": null,
      "justify_items": null,
      "left": null,
      "margin": null,
      "max_height": null,
      "max_width": null,
      "min_height": null,
      "min_width": null,
      "object_fit": null,
      "object_position": null,
      "order": null,
      "overflow": null,
      "overflow_x": null,
      "overflow_y": null,
      "padding": null,
      "right": null,
      "top": null,
      "visibility": null,
      "width": null
     }
    },
    "f4fb0dc8f2dd4c4ba8a2b770ce68a03d": {
     "model_module": "@jupyter-widgets/controls",
     "model_module_version": "1.5.0",
     "model_name": "HTMLModel",
     "state": {
      "_dom_classes": [],
      "_model_module": "@jupyter-widgets/controls",
      "_model_module_version": "1.5.0",
      "_model_name": "HTMLModel",
      "_view_count": null,
      "_view_module": "@jupyter-widgets/controls",
      "_view_module_version": "1.5.0",
      "_view_name": "HTMLView",
      "description": "",
      "description_tooltip": null,
      "layout": "IPY_MODEL_e3aab191f1d94bf59fe65077c081ef00",
      "placeholder": "​",
      "style": "IPY_MODEL_a5f9e4880334409e8022ee1929b697e6",
      "value": " 40%"
     }
    }
   }
  }
 },
 "nbformat": 4,
 "nbformat_minor": 1
}
